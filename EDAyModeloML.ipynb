{
 "cells": [
  {
   "cell_type": "code",
   "execution_count": 4,
   "metadata": {},
   "outputs": [],
   "source": [
    "import pandas as pd\n",
    "import numpy as np\n",
    "import matplotlib.pyplot as plt\n",
    "import seaborn as sns"
   ]
  },
  {
   "cell_type": "code",
   "execution_count": 5,
   "metadata": {},
   "outputs": [],
   "source": [
    "Hosp_test = pd.read_csv('hospitalizaciones_test.csv')\n",
    "Hosp_train = pd.read_csv('hospitalizaciones_train.csv')"
   ]
  },
  {
   "cell_type": "code",
   "execution_count": 6,
   "metadata": {},
   "outputs": [
    {
     "data": {
      "text/html": [
       "<div>\n",
       "<style scoped>\n",
       "    .dataframe tbody tr th:only-of-type {\n",
       "        vertical-align: middle;\n",
       "    }\n",
       "\n",
       "    .dataframe tbody tr th {\n",
       "        vertical-align: top;\n",
       "    }\n",
       "\n",
       "    .dataframe thead th {\n",
       "        text-align: right;\n",
       "    }\n",
       "</style>\n",
       "<table border=\"1\" class=\"dataframe\">\n",
       "  <thead>\n",
       "    <tr style=\"text-align: right;\">\n",
       "      <th></th>\n",
       "      <th>Available Extra Rooms in Hospital</th>\n",
       "      <th>Department</th>\n",
       "      <th>Ward_Facility_Code</th>\n",
       "      <th>doctor_name</th>\n",
       "      <th>staff_available</th>\n",
       "      <th>patientid</th>\n",
       "      <th>Age</th>\n",
       "      <th>gender</th>\n",
       "      <th>Type of Admission</th>\n",
       "      <th>Severity of Illness</th>\n",
       "      <th>health_conditions</th>\n",
       "      <th>Visitors with Patient</th>\n",
       "      <th>Insurance</th>\n",
       "      <th>Admission_Deposit</th>\n",
       "    </tr>\n",
       "  </thead>\n",
       "  <tbody>\n",
       "    <tr>\n",
       "      <th>0</th>\n",
       "      <td>3</td>\n",
       "      <td>gynecology</td>\n",
       "      <td>F</td>\n",
       "      <td>Dr Olivia</td>\n",
       "      <td>10</td>\n",
       "      <td>2858</td>\n",
       "      <td>21-30</td>\n",
       "      <td>Female</td>\n",
       "      <td>Trauma</td>\n",
       "      <td>Moderate</td>\n",
       "      <td>Other</td>\n",
       "      <td>2</td>\n",
       "      <td>No</td>\n",
       "      <td>4749.640225</td>\n",
       "    </tr>\n",
       "    <tr>\n",
       "      <th>1</th>\n",
       "      <td>2</td>\n",
       "      <td>TB &amp; Chest disease</td>\n",
       "      <td>E</td>\n",
       "      <td>Dr John</td>\n",
       "      <td>4</td>\n",
       "      <td>65657</td>\n",
       "      <td>51-60</td>\n",
       "      <td>Female</td>\n",
       "      <td>Trauma</td>\n",
       "      <td>Moderate</td>\n",
       "      <td>Asthama</td>\n",
       "      <td>2</td>\n",
       "      <td>Yes</td>\n",
       "      <td>4122.261324</td>\n",
       "    </tr>\n",
       "    <tr>\n",
       "      <th>2</th>\n",
       "      <td>2</td>\n",
       "      <td>radiotherapy</td>\n",
       "      <td>E</td>\n",
       "      <td>Dr John</td>\n",
       "      <td>7</td>\n",
       "      <td>45598</td>\n",
       "      <td>51-60</td>\n",
       "      <td>Other</td>\n",
       "      <td>Trauma</td>\n",
       "      <td>Moderate</td>\n",
       "      <td>None</td>\n",
       "      <td>3</td>\n",
       "      <td>No</td>\n",
       "      <td>5459.067882</td>\n",
       "    </tr>\n",
       "    <tr>\n",
       "      <th>3</th>\n",
       "      <td>2</td>\n",
       "      <td>gynecology</td>\n",
       "      <td>F</td>\n",
       "      <td>Dr Olivia</td>\n",
       "      <td>1</td>\n",
       "      <td>31132</td>\n",
       "      <td>21-30</td>\n",
       "      <td>Female</td>\n",
       "      <td>Trauma</td>\n",
       "      <td>Moderate</td>\n",
       "      <td>None</td>\n",
       "      <td>2</td>\n",
       "      <td>Yes</td>\n",
       "      <td>3987.033318</td>\n",
       "    </tr>\n",
       "    <tr>\n",
       "      <th>4</th>\n",
       "      <td>2</td>\n",
       "      <td>anesthesia</td>\n",
       "      <td>A</td>\n",
       "      <td>Dr John</td>\n",
       "      <td>7</td>\n",
       "      <td>125021</td>\n",
       "      <td>51-60</td>\n",
       "      <td>Female</td>\n",
       "      <td>Trauma</td>\n",
       "      <td>Extreme</td>\n",
       "      <td>Diabetes</td>\n",
       "      <td>2</td>\n",
       "      <td>No</td>\n",
       "      <td>4770.789695</td>\n",
       "    </tr>\n",
       "    <tr>\n",
       "      <th>...</th>\n",
       "      <td>...</td>\n",
       "      <td>...</td>\n",
       "      <td>...</td>\n",
       "      <td>...</td>\n",
       "      <td>...</td>\n",
       "      <td>...</td>\n",
       "      <td>...</td>\n",
       "      <td>...</td>\n",
       "      <td>...</td>\n",
       "      <td>...</td>\n",
       "      <td>...</td>\n",
       "      <td>...</td>\n",
       "      <td>...</td>\n",
       "      <td>...</td>\n",
       "    </tr>\n",
       "    <tr>\n",
       "      <th>89995</th>\n",
       "      <td>4</td>\n",
       "      <td>gynecology</td>\n",
       "      <td>F</td>\n",
       "      <td>Dr Sarah</td>\n",
       "      <td>2</td>\n",
       "      <td>43001</td>\n",
       "      <td>11-20</td>\n",
       "      <td>Female</td>\n",
       "      <td>Trauma</td>\n",
       "      <td>Minor</td>\n",
       "      <td>High Blood Pressure</td>\n",
       "      <td>3</td>\n",
       "      <td>No</td>\n",
       "      <td>4105.795901</td>\n",
       "    </tr>\n",
       "    <tr>\n",
       "      <th>89996</th>\n",
       "      <td>13</td>\n",
       "      <td>gynecology</td>\n",
       "      <td>F</td>\n",
       "      <td>Dr Olivia</td>\n",
       "      <td>8</td>\n",
       "      <td>85601</td>\n",
       "      <td>31-40</td>\n",
       "      <td>Female</td>\n",
       "      <td>Emergency</td>\n",
       "      <td>Moderate</td>\n",
       "      <td>Other</td>\n",
       "      <td>2</td>\n",
       "      <td>No</td>\n",
       "      <td>4631.550257</td>\n",
       "    </tr>\n",
       "    <tr>\n",
       "      <th>89997</th>\n",
       "      <td>2</td>\n",
       "      <td>gynecology</td>\n",
       "      <td>B</td>\n",
       "      <td>Dr Sarah</td>\n",
       "      <td>3</td>\n",
       "      <td>22447</td>\n",
       "      <td>11-20</td>\n",
       "      <td>Female</td>\n",
       "      <td>Emergency</td>\n",
       "      <td>Moderate</td>\n",
       "      <td>High Blood Pressure</td>\n",
       "      <td>2</td>\n",
       "      <td>No</td>\n",
       "      <td>5456.930075</td>\n",
       "    </tr>\n",
       "    <tr>\n",
       "      <th>89998</th>\n",
       "      <td>2</td>\n",
       "      <td>radiotherapy</td>\n",
       "      <td>A</td>\n",
       "      <td>Dr John</td>\n",
       "      <td>1</td>\n",
       "      <td>29957</td>\n",
       "      <td>61-70</td>\n",
       "      <td>Female</td>\n",
       "      <td>Trauma</td>\n",
       "      <td>Extreme</td>\n",
       "      <td>Diabetes</td>\n",
       "      <td>2</td>\n",
       "      <td>No</td>\n",
       "      <td>4694.127772</td>\n",
       "    </tr>\n",
       "    <tr>\n",
       "      <th>89999</th>\n",
       "      <td>3</td>\n",
       "      <td>gynecology</td>\n",
       "      <td>F</td>\n",
       "      <td>Dr Sophia</td>\n",
       "      <td>3</td>\n",
       "      <td>45008</td>\n",
       "      <td>41-50</td>\n",
       "      <td>Female</td>\n",
       "      <td>Trauma</td>\n",
       "      <td>Moderate</td>\n",
       "      <td>Heart disease</td>\n",
       "      <td>4</td>\n",
       "      <td>Yes</td>\n",
       "      <td>4713.868519</td>\n",
       "    </tr>\n",
       "  </tbody>\n",
       "</table>\n",
       "<p>90000 rows × 14 columns</p>\n",
       "</div>"
      ],
      "text/plain": [
       "       Available Extra Rooms in Hospital          Department  \\\n",
       "0                                      3          gynecology   \n",
       "1                                      2  TB & Chest disease   \n",
       "2                                      2        radiotherapy   \n",
       "3                                      2          gynecology   \n",
       "4                                      2          anesthesia   \n",
       "...                                  ...                 ...   \n",
       "89995                                  4          gynecology   \n",
       "89996                                 13          gynecology   \n",
       "89997                                  2          gynecology   \n",
       "89998                                  2        radiotherapy   \n",
       "89999                                  3          gynecology   \n",
       "\n",
       "      Ward_Facility_Code doctor_name  staff_available  patientid    Age  \\\n",
       "0                      F   Dr Olivia               10       2858  21-30   \n",
       "1                      E     Dr John                4      65657  51-60   \n",
       "2                      E     Dr John                7      45598  51-60   \n",
       "3                      F   Dr Olivia                1      31132  21-30   \n",
       "4                      A     Dr John                7     125021  51-60   \n",
       "...                  ...         ...              ...        ...    ...   \n",
       "89995                  F    Dr Sarah                2      43001  11-20   \n",
       "89996                  F   Dr Olivia                8      85601  31-40   \n",
       "89997                  B    Dr Sarah                3      22447  11-20   \n",
       "89998                  A     Dr John                1      29957  61-70   \n",
       "89999                  F   Dr Sophia                3      45008  41-50   \n",
       "\n",
       "       gender Type of Admission Severity of Illness    health_conditions  \\\n",
       "0      Female            Trauma            Moderate                Other   \n",
       "1      Female            Trauma            Moderate              Asthama   \n",
       "2       Other            Trauma            Moderate                 None   \n",
       "3      Female            Trauma            Moderate                 None   \n",
       "4      Female            Trauma             Extreme             Diabetes   \n",
       "...       ...               ...                 ...                  ...   \n",
       "89995  Female            Trauma               Minor  High Blood Pressure   \n",
       "89996  Female         Emergency            Moderate                Other   \n",
       "89997  Female         Emergency            Moderate  High Blood Pressure   \n",
       "89998  Female            Trauma             Extreme             Diabetes   \n",
       "89999  Female            Trauma            Moderate        Heart disease   \n",
       "\n",
       "       Visitors with Patient Insurance  Admission_Deposit  \n",
       "0                          2        No        4749.640225  \n",
       "1                          2       Yes        4122.261324  \n",
       "2                          3        No        5459.067882  \n",
       "3                          2       Yes        3987.033318  \n",
       "4                          2        No        4770.789695  \n",
       "...                      ...       ...                ...  \n",
       "89995                      3        No        4105.795901  \n",
       "89996                      2        No        4631.550257  \n",
       "89997                      2        No        5456.930075  \n",
       "89998                      2        No        4694.127772  \n",
       "89999                      4       Yes        4713.868519  \n",
       "\n",
       "[90000 rows x 14 columns]"
      ]
     },
     "execution_count": 6,
     "metadata": {},
     "output_type": "execute_result"
    }
   ],
   "source": [
    "Hosp_test"
   ]
  },
  {
   "cell_type": "code",
   "execution_count": 7,
   "metadata": {},
   "outputs": [
    {
     "data": {
      "text/html": [
       "<div>\n",
       "<style scoped>\n",
       "    .dataframe tbody tr th:only-of-type {\n",
       "        vertical-align: middle;\n",
       "    }\n",
       "\n",
       "    .dataframe tbody tr th {\n",
       "        vertical-align: top;\n",
       "    }\n",
       "\n",
       "    .dataframe thead th {\n",
       "        text-align: right;\n",
       "    }\n",
       "</style>\n",
       "<table border=\"1\" class=\"dataframe\">\n",
       "  <thead>\n",
       "    <tr style=\"text-align: right;\">\n",
       "      <th></th>\n",
       "      <th>Available Extra Rooms in Hospital</th>\n",
       "      <th>Department</th>\n",
       "      <th>Ward_Facility_Code</th>\n",
       "      <th>doctor_name</th>\n",
       "      <th>staff_available</th>\n",
       "      <th>patientid</th>\n",
       "      <th>Age</th>\n",
       "      <th>gender</th>\n",
       "      <th>Type of Admission</th>\n",
       "      <th>Severity of Illness</th>\n",
       "      <th>health_conditions</th>\n",
       "      <th>Visitors with Patient</th>\n",
       "      <th>Insurance</th>\n",
       "      <th>Admission_Deposit</th>\n",
       "      <th>Stay (in days)</th>\n",
       "    </tr>\n",
       "  </thead>\n",
       "  <tbody>\n",
       "    <tr>\n",
       "      <th>0</th>\n",
       "      <td>4</td>\n",
       "      <td>gynecology</td>\n",
       "      <td>D</td>\n",
       "      <td>Dr Sophia</td>\n",
       "      <td>0</td>\n",
       "      <td>33070</td>\n",
       "      <td>41-50</td>\n",
       "      <td>Female</td>\n",
       "      <td>Trauma</td>\n",
       "      <td>Extreme</td>\n",
       "      <td>Diabetes</td>\n",
       "      <td>4</td>\n",
       "      <td>Yes</td>\n",
       "      <td>2966.408696</td>\n",
       "      <td>8</td>\n",
       "    </tr>\n",
       "    <tr>\n",
       "      <th>1</th>\n",
       "      <td>4</td>\n",
       "      <td>gynecology</td>\n",
       "      <td>B</td>\n",
       "      <td>Dr Sophia</td>\n",
       "      <td>2</td>\n",
       "      <td>34808</td>\n",
       "      <td>31-40</td>\n",
       "      <td>Female</td>\n",
       "      <td>Trauma</td>\n",
       "      <td>Minor</td>\n",
       "      <td>Heart disease</td>\n",
       "      <td>2</td>\n",
       "      <td>No</td>\n",
       "      <td>3554.835677</td>\n",
       "      <td>9</td>\n",
       "    </tr>\n",
       "    <tr>\n",
       "      <th>2</th>\n",
       "      <td>2</td>\n",
       "      <td>gynecology</td>\n",
       "      <td>B</td>\n",
       "      <td>Dr Sophia</td>\n",
       "      <td>8</td>\n",
       "      <td>44577</td>\n",
       "      <td>21-30</td>\n",
       "      <td>Female</td>\n",
       "      <td>Trauma</td>\n",
       "      <td>Extreme</td>\n",
       "      <td>Diabetes</td>\n",
       "      <td>2</td>\n",
       "      <td>Yes</td>\n",
       "      <td>5624.733654</td>\n",
       "      <td>7</td>\n",
       "    </tr>\n",
       "    <tr>\n",
       "      <th>3</th>\n",
       "      <td>4</td>\n",
       "      <td>gynecology</td>\n",
       "      <td>D</td>\n",
       "      <td>Dr Olivia</td>\n",
       "      <td>7</td>\n",
       "      <td>3695</td>\n",
       "      <td>31-40</td>\n",
       "      <td>Female</td>\n",
       "      <td>Urgent</td>\n",
       "      <td>Moderate</td>\n",
       "      <td>None</td>\n",
       "      <td>4</td>\n",
       "      <td>No</td>\n",
       "      <td>4814.149231</td>\n",
       "      <td>8</td>\n",
       "    </tr>\n",
       "    <tr>\n",
       "      <th>4</th>\n",
       "      <td>2</td>\n",
       "      <td>anesthesia</td>\n",
       "      <td>E</td>\n",
       "      <td>Dr Mark</td>\n",
       "      <td>10</td>\n",
       "      <td>108956</td>\n",
       "      <td>71-80</td>\n",
       "      <td>Male</td>\n",
       "      <td>Trauma</td>\n",
       "      <td>Moderate</td>\n",
       "      <td>Diabetes</td>\n",
       "      <td>2</td>\n",
       "      <td>No</td>\n",
       "      <td>5169.269637</td>\n",
       "      <td>34</td>\n",
       "    </tr>\n",
       "  </tbody>\n",
       "</table>\n",
       "</div>"
      ],
      "text/plain": [
       "   Available Extra Rooms in Hospital  Department Ward_Facility_Code  \\\n",
       "0                                  4  gynecology                  D   \n",
       "1                                  4  gynecology                  B   \n",
       "2                                  2  gynecology                  B   \n",
       "3                                  4  gynecology                  D   \n",
       "4                                  2  anesthesia                  E   \n",
       "\n",
       "  doctor_name  staff_available  patientid    Age  gender Type of Admission  \\\n",
       "0   Dr Sophia                0      33070  41-50  Female            Trauma   \n",
       "1   Dr Sophia                2      34808  31-40  Female            Trauma   \n",
       "2   Dr Sophia                8      44577  21-30  Female            Trauma   \n",
       "3   Dr Olivia                7       3695  31-40  Female            Urgent   \n",
       "4     Dr Mark               10     108956  71-80    Male            Trauma   \n",
       "\n",
       "  Severity of Illness health_conditions  Visitors with Patient Insurance  \\\n",
       "0             Extreme          Diabetes                      4       Yes   \n",
       "1               Minor     Heart disease                      2        No   \n",
       "2             Extreme          Diabetes                      2       Yes   \n",
       "3            Moderate              None                      4        No   \n",
       "4            Moderate          Diabetes                      2        No   \n",
       "\n",
       "   Admission_Deposit  Stay (in days)  \n",
       "0        2966.408696               8  \n",
       "1        3554.835677               9  \n",
       "2        5624.733654               7  \n",
       "3        4814.149231               8  \n",
       "4        5169.269637              34  "
      ]
     },
     "execution_count": 7,
     "metadata": {},
     "output_type": "execute_result"
    }
   ],
   "source": [
    "Hosp_train.head()"
   ]
  },
  {
   "attachments": {},
   "cell_type": "markdown",
   "metadata": {},
   "source": [
    "Visualizo los valores nulos (No hay)"
   ]
  },
  {
   "cell_type": "code",
   "execution_count": 8,
   "metadata": {},
   "outputs": [
    {
     "data": {
      "text/plain": [
       "Available Extra Rooms in Hospital    0\n",
       "Department                           0\n",
       "Ward_Facility_Code                   0\n",
       "doctor_name                          0\n",
       "staff_available                      0\n",
       "patientid                            0\n",
       "Age                                  0\n",
       "gender                               0\n",
       "Type of Admission                    0\n",
       "Severity of Illness                  0\n",
       "health_conditions                    0\n",
       "Visitors with Patient                0\n",
       "Insurance                            0\n",
       "Admission_Deposit                    0\n",
       "dtype: int64"
      ]
     },
     "execution_count": 8,
     "metadata": {},
     "output_type": "execute_result"
    }
   ],
   "source": [
    "Hosp_test.isnull().sum()"
   ]
  },
  {
   "cell_type": "code",
   "execution_count": 9,
   "metadata": {},
   "outputs": [
    {
     "data": {
      "text/plain": [
       "Available Extra Rooms in Hospital    0\n",
       "Department                           0\n",
       "Ward_Facility_Code                   0\n",
       "doctor_name                          0\n",
       "staff_available                      0\n",
       "patientid                            0\n",
       "Age                                  0\n",
       "gender                               0\n",
       "Type of Admission                    0\n",
       "Severity of Illness                  0\n",
       "health_conditions                    0\n",
       "Visitors with Patient                0\n",
       "Insurance                            0\n",
       "Admission_Deposit                    0\n",
       "Stay (in days)                       0\n",
       "dtype: int64"
      ]
     },
     "execution_count": 9,
     "metadata": {},
     "output_type": "execute_result"
    }
   ],
   "source": [
    "Hosp_train.isnull().sum()"
   ]
  },
  {
   "attachments": {},
   "cell_type": "markdown",
   "metadata": {},
   "source": [
    "Contamos las apariciones de cada elemento por columna, para darnos un vistazo general de los datos de cada columna:"
   ]
  },
  {
   "cell_type": "code",
   "execution_count": 10,
   "metadata": {},
   "outputs": [
    {
     "data": {
      "text/plain": [
       "3     26184\n",
       "2     25360\n",
       "4     20523\n",
       "5      8627\n",
       "6      2746\n",
       "1      2173\n",
       "7       917\n",
       "12      497\n",
       "24      487\n",
       "21      436\n",
       "13      351\n",
       "8       307\n",
       "11      293\n",
       "0       280\n",
       "10      277\n",
       "14      233\n",
       "20      166\n",
       "9       143\n",
       "Name: Available Extra Rooms in Hospital, dtype: int64"
      ]
     },
     "execution_count": 10,
     "metadata": {},
     "output_type": "execute_result"
    }
   ],
   "source": [
    "Hosp_test['Available Extra Rooms in Hospital'].value_counts()"
   ]
  },
  {
   "cell_type": "code",
   "execution_count": 11,
   "metadata": {},
   "outputs": [
    {
     "data": {
      "text/plain": [
       "gynecology            61853\n",
       "radiotherapy          15183\n",
       "anesthesia             7929\n",
       "TB & Chest disease     4065\n",
       "surgery                 970\n",
       "Name: Department, dtype: int64"
      ]
     },
     "execution_count": 11,
     "metadata": {},
     "output_type": "execute_result"
    }
   ],
   "source": [
    "Hosp_test['Department'].value_counts()"
   ]
  },
  {
   "cell_type": "code",
   "execution_count": 12,
   "metadata": {},
   "outputs": [
    {
     "data": {
      "text/plain": [
       "D    21651\n",
       "F    21601\n",
       "B    18601\n",
       "E    17235\n",
       "A     8339\n",
       "C     2573\n",
       "Name: Ward_Facility_Code, dtype: int64"
      ]
     },
     "execution_count": 12,
     "metadata": {},
     "output_type": "execute_result"
    }
   ],
   "source": [
    "Hosp_test['Ward_Facility_Code'].value_counts()"
   ]
  },
  {
   "cell_type": "code",
   "execution_count": 13,
   "metadata": {},
   "outputs": [
    {
     "data": {
      "text/plain": [
       "Dr Sarah     20879\n",
       "Dr Sophia    19898\n",
       "Dr John      16680\n",
       "Dr Olivia    12156\n",
       "Dr Nathan     8920\n",
       "Dr Sam        5877\n",
       "Dr Mark       4620\n",
       "Dr Simon       592\n",
       "Dr Isaac       378\n",
       "Name: doctor_name, dtype: int64"
      ]
     },
     "execution_count": 13,
     "metadata": {},
     "output_type": "execute_result"
    }
   ],
   "source": [
    "Hosp_test['doctor_name'].value_counts()"
   ]
  },
  {
   "cell_type": "code",
   "execution_count": 14,
   "metadata": {},
   "outputs": [
    {
     "data": {
      "text/plain": [
       "6     8351\n",
       "7     8277\n",
       "10    8276\n",
       "3     8244\n",
       "1     8204\n",
       "8     8190\n",
       "5     8153\n",
       "4     8145\n",
       "9     8123\n",
       "0     8070\n",
       "2     7967\n",
       "Name: staff_available, dtype: int64"
      ]
     },
     "execution_count": 14,
     "metadata": {},
     "output_type": "execute_result"
    }
   ],
   "source": [
    "Hosp_test['staff_available'].value_counts()"
   ]
  },
  {
   "cell_type": "code",
   "execution_count": 15,
   "metadata": {},
   "outputs": [
    {
     "data": {
      "text/plain": [
       "31-40     26601\n",
       "21-30     24764\n",
       "41-50     14433\n",
       "11-20      9776\n",
       "61-70      4775\n",
       "51-60      3985\n",
       "71-80      3319\n",
       "81-90      1503\n",
       "0-10        615\n",
       "91-100      229\n",
       "Name: Age, dtype: int64"
      ]
     },
     "execution_count": 15,
     "metadata": {},
     "output_type": "execute_result"
    }
   ],
   "source": [
    "Hosp_test['Age'].value_counts()"
   ]
  },
  {
   "cell_type": "code",
   "execution_count": 16,
   "metadata": {},
   "outputs": [
    {
     "data": {
      "text/plain": [
       "124677    8\n",
       "44191     7\n",
       "39971     7\n",
       "125678    7\n",
       "46071     7\n",
       "         ..\n",
       "78905     1\n",
       "46771     1\n",
       "63473     1\n",
       "45835     1\n",
       "33937     1\n",
       "Name: patientid, Length: 62979, dtype: int64"
      ]
     },
     "execution_count": 16,
     "metadata": {},
     "output_type": "execute_result"
    }
   ],
   "source": [
    "Hosp_test['patientid'].value_counts()"
   ]
  },
  {
   "cell_type": "code",
   "execution_count": 17,
   "metadata": {},
   "outputs": [
    {
     "data": {
      "text/plain": [
       "Female    71308\n",
       "Male      10875\n",
       "Other      7817\n",
       "Name: gender, dtype: int64"
      ]
     },
     "execution_count": 17,
     "metadata": {},
     "output_type": "execute_result"
    }
   ],
   "source": [
    "Hosp_test['gender'].value_counts()"
   ]
  },
  {
   "cell_type": "code",
   "execution_count": 18,
   "metadata": {},
   "outputs": [
    {
     "data": {
      "text/plain": [
       "Trauma       55838\n",
       "Emergency    24410\n",
       "Urgent        9752\n",
       "Name: Type of Admission, dtype: int64"
      ]
     },
     "execution_count": 18,
     "metadata": {},
     "output_type": "execute_result"
    }
   ],
   "source": [
    "Hosp_test['Type of Admission'].value_counts()"
   ]
  },
  {
   "cell_type": "code",
   "execution_count": 19,
   "metadata": {},
   "outputs": [
    {
     "data": {
      "text/plain": [
       "Moderate    49378\n",
       "Minor       23640\n",
       "Extreme     16982\n",
       "Name: Severity of Illness, dtype: int64"
      ]
     },
     "execution_count": 19,
     "metadata": {},
     "output_type": "execute_result"
    }
   ],
   "source": [
    "Hosp_test['Severity of Illness'].value_counts()"
   ]
  },
  {
   "cell_type": "code",
   "execution_count": 20,
   "metadata": {},
   "outputs": [
    {
     "data": {
      "text/plain": [
       "Other                  16076\n",
       "High Blood Pressure    15313\n",
       "Asthama                15086\n",
       "Diabetes               14955\n",
       "None                   14686\n",
       "Heart disease          13884\n",
       "Name: health_conditions, dtype: int64"
      ]
     },
     "execution_count": 20,
     "metadata": {},
     "output_type": "execute_result"
    }
   ],
   "source": [
    "Hosp_test['health_conditions'].value_counts()"
   ]
  },
  {
   "cell_type": "code",
   "execution_count": 21,
   "metadata": {},
   "outputs": [
    {
     "data": {
      "text/plain": [
       "2     36828\n",
       "4     30510\n",
       "3     10179\n",
       "6      4641\n",
       "5      2256\n",
       "8      1574\n",
       "7       690\n",
       "9       525\n",
       "10      518\n",
       "12      486\n",
       "1       385\n",
       "14      363\n",
       "11      320\n",
       "13      140\n",
       "0       130\n",
       "15      116\n",
       "24       65\n",
       "16       64\n",
       "19       37\n",
       "17       32\n",
       "20       27\n",
       "22       26\n",
       "32       25\n",
       "23       21\n",
       "18       18\n",
       "21       14\n",
       "25        7\n",
       "30        3\n",
       "Name: Visitors with Patient, dtype: int64"
      ]
     },
     "execution_count": 21,
     "metadata": {},
     "output_type": "execute_result"
    }
   ],
   "source": [
    "Hosp_test['Visitors with Patient'].value_counts()"
   ]
  },
  {
   "cell_type": "code",
   "execution_count": 22,
   "metadata": {},
   "outputs": [
    {
     "data": {
      "text/plain": [
       "Yes    52461\n",
       "No     37539\n",
       "Name: Insurance, dtype: int64"
      ]
     },
     "execution_count": 22,
     "metadata": {},
     "output_type": "execute_result"
    }
   ],
   "source": [
    "Hosp_test['Insurance'].value_counts()"
   ]
  },
  {
   "cell_type": "code",
   "execution_count": 23,
   "metadata": {},
   "outputs": [
    {
     "data": {
      "text/plain": [
       "7100.510912    2\n",
       "3871.475517    2\n",
       "4571.130879    2\n",
       "4056.391415    2\n",
       "4358.327204    2\n",
       "              ..\n",
       "3849.509164    1\n",
       "4204.634321    1\n",
       "4785.227241    1\n",
       "3972.250087    1\n",
       "4713.868519    1\n",
       "Name: Admission_Deposit, Length: 89984, dtype: int64"
      ]
     },
     "execution_count": 23,
     "metadata": {},
     "output_type": "execute_result"
    }
   ],
   "source": [
    "Hosp_test['Admission_Deposit'].value_counts()"
   ]
  },
  {
   "attachments": {},
   "cell_type": "markdown",
   "metadata": {},
   "source": [
    "Tipos de datos:\n",
    "-   Datos númericos:\n",
    "    +   Discretos: Available Extra Rooms in Hospital, staff_available, Age(este indica un rango etario), Visitors with Patient\n",
    "    +   Continuos: Admission_Deposit\n",
    "\n",
    "-   Datos categoricos:\n",
    "    +   Nominales: Department, Ward_Facility_Code, doctor_name, patientid(Aunque es un valor numerico, su valor no nos dice nada), Type of Admission, Severity of Illness, health_conditions,\n",
    "    +   Binarios: gender, Insurance."
   ]
  },
  {
   "attachments": {},
   "cell_type": "markdown",
   "metadata": {},
   "source": [
    "Analizamos la mediana (ordena los datos de menor a mayor o viceversa y elige justo el número que se encuentre en la mitad de todos)"
   ]
  },
  {
   "cell_type": "code",
   "execution_count": 24,
   "metadata": {},
   "outputs": [
    {
     "data": {
      "text/plain": [
       "3.0"
      ]
     },
     "execution_count": 24,
     "metadata": {},
     "output_type": "execute_result"
    }
   ],
   "source": [
    "Hosp_test['Available Extra Rooms in Hospital'].median()"
   ]
  },
  {
   "cell_type": "code",
   "execution_count": 25,
   "metadata": {},
   "outputs": [
    {
     "data": {
      "text/plain": [
       "5.0"
      ]
     },
     "execution_count": 25,
     "metadata": {},
     "output_type": "execute_result"
    }
   ],
   "source": [
    "Hosp_test['staff_available'].median()"
   ]
  },
  {
   "cell_type": "code",
   "execution_count": 26,
   "metadata": {},
   "outputs": [
    {
     "data": {
      "text/plain": [
       "3.0"
      ]
     },
     "execution_count": 26,
     "metadata": {},
     "output_type": "execute_result"
    }
   ],
   "source": [
    "Hosp_test['Visitors with Patient'].median()"
   ]
  },
  {
   "cell_type": "code",
   "execution_count": 27,
   "metadata": {},
   "outputs": [
    {
     "data": {
      "text/plain": [
       "4624.372449"
      ]
     },
     "execution_count": 27,
     "metadata": {},
     "output_type": "execute_result"
    }
   ],
   "source": [
    "Hosp_test['Admission_Deposit'].median()"
   ]
  },
  {
   "cell_type": "code",
   "execution_count": 28,
   "metadata": {},
   "outputs": [
    {
     "data": {
      "text/plain": [
       "0        30\n",
       "1        60\n",
       "2        60\n",
       "3        30\n",
       "4        60\n",
       "         ..\n",
       "89995    20\n",
       "89996    40\n",
       "89997    20\n",
       "89998    70\n",
       "89999    50\n",
       "Name: Age, Length: 90000, dtype: int64"
      ]
     },
     "execution_count": 28,
     "metadata": {},
     "output_type": "execute_result"
    }
   ],
   "source": [
    "#Para poder sacar la mediana de la columna Age, habra que trabajar un poco los datos\n",
    "Hosp_test['Age'] = Hosp_test['Age'].replace({'0-10': 10, '11-20': 20, '21-30':30, '31-40':40, '41-50':50, '51-60':60, '61-70':70, '71-80':80, '81-90':90, '91-100':100})\n",
    "Hosp_train['Age'] = Hosp_train['Age'].replace({'0-10': 10, '11-20': 20, '21-30':30, '31-40':40, '41-50':50, '51-60':60, '61-70':70, '71-80':80, '81-90':90, '91-100':100})\n",
    "Hosp_test['Age']"
   ]
  },
  {
   "cell_type": "code",
   "execution_count": 29,
   "metadata": {},
   "outputs": [
    {
     "data": {
      "text/plain": [
       "40.0"
      ]
     },
     "execution_count": 29,
     "metadata": {},
     "output_type": "execute_result"
    }
   ],
   "source": [
    "Hosp_test['Age'].median()"
   ]
  },
  {
   "attachments": {},
   "cell_type": "markdown",
   "metadata": {},
   "source": [
    "Analizamos la moda (Valor más repetido)"
   ]
  },
  {
   "cell_type": "code",
   "execution_count": 30,
   "metadata": {},
   "outputs": [
    {
     "data": {
      "text/plain": [
       "0    3\n",
       "Name: Available Extra Rooms in Hospital, dtype: int64"
      ]
     },
     "execution_count": 30,
     "metadata": {},
     "output_type": "execute_result"
    }
   ],
   "source": [
    "Hosp_test['Available Extra Rooms in Hospital'].mode()"
   ]
  },
  {
   "cell_type": "code",
   "execution_count": 31,
   "metadata": {},
   "outputs": [
    {
     "data": {
      "text/plain": [
       "0    6\n",
       "Name: staff_available, dtype: int64"
      ]
     },
     "execution_count": 31,
     "metadata": {},
     "output_type": "execute_result"
    }
   ],
   "source": [
    "Hosp_test['staff_available'].mode()"
   ]
  },
  {
   "cell_type": "code",
   "execution_count": 32,
   "metadata": {},
   "outputs": [
    {
     "data": {
      "text/plain": [
       "0    2\n",
       "Name: Visitors with Patient, dtype: int64"
      ]
     },
     "execution_count": 32,
     "metadata": {},
     "output_type": "execute_result"
    }
   ],
   "source": [
    "Hosp_test['Visitors with Patient'].mode()"
   ]
  },
  {
   "cell_type": "code",
   "execution_count": 33,
   "metadata": {},
   "outputs": [
    {
     "data": {
      "text/plain": [
       "0     3871.475517\n",
       "1     4056.391415\n",
       "2     4089.293066\n",
       "3     4153.056015\n",
       "4     4169.098742\n",
       "5     4173.397932\n",
       "6     4229.118777\n",
       "7     4358.327204\n",
       "8     4571.130879\n",
       "9     4628.352251\n",
       "10    4639.131644\n",
       "11    4711.545880\n",
       "12    4896.753056\n",
       "13    5035.857725\n",
       "14    5129.367286\n",
       "15    7100.510912\n",
       "Name: Admission_Deposit, dtype: float64"
      ]
     },
     "execution_count": 33,
     "metadata": {},
     "output_type": "execute_result"
    }
   ],
   "source": [
    "Hosp_test['Admission_Deposit'].mode()"
   ]
  },
  {
   "cell_type": "code",
   "execution_count": 34,
   "metadata": {},
   "outputs": [
    {
     "data": {
      "text/plain": [
       "0    40\n",
       "Name: Age, dtype: int64"
      ]
     },
     "execution_count": 34,
     "metadata": {},
     "output_type": "execute_result"
    }
   ],
   "source": [
    "Hosp_test['Age'].mode()"
   ]
  },
  {
   "attachments": {},
   "cell_type": "markdown",
   "metadata": {},
   "source": [
    "Analizamos la varianza (Nivel de dispersion de los datos)"
   ]
  },
  {
   "cell_type": "code",
   "execution_count": 35,
   "metadata": {},
   "outputs": [
    {
     "data": {
      "text/plain": [
       "7.191935523234207"
      ]
     },
     "execution_count": 35,
     "metadata": {},
     "output_type": "execute_result"
    }
   ],
   "source": [
    "Hosp_test['Available Extra Rooms in Hospital'].var()"
   ]
  },
  {
   "cell_type": "code",
   "execution_count": 36,
   "metadata": {},
   "outputs": [
    {
     "data": {
      "text/plain": [
       "9.976164845164947"
      ]
     },
     "execution_count": 36,
     "metadata": {},
     "output_type": "execute_result"
    }
   ],
   "source": [
    "Hosp_test['staff_available'].var()"
   ]
  },
  {
   "cell_type": "code",
   "execution_count": 37,
   "metadata": {},
   "outputs": [
    {
     "data": {
      "text/plain": [
       "4.89116616406849"
      ]
     },
     "execution_count": 37,
     "metadata": {},
     "output_type": "execute_result"
    }
   ],
   "source": [
    "Hosp_test['Visitors with Patient'].var()"
   ]
  },
  {
   "cell_type": "code",
   "execution_count": 38,
   "metadata": {},
   "outputs": [
    {
     "data": {
      "text/plain": [
       "1095952.5950874318"
      ]
     },
     "execution_count": 38,
     "metadata": {},
     "output_type": "execute_result"
    }
   ],
   "source": [
    "#observamos una inmenza dispersion de datos con respecto a la media\n",
    "Hosp_test['Admission_Deposit'].var()"
   ]
  },
  {
   "cell_type": "code",
   "execution_count": 39,
   "metadata": {},
   "outputs": [
    {
     "data": {
      "text/plain": [
       "266.52834631495904"
      ]
     },
     "execution_count": 39,
     "metadata": {},
     "output_type": "execute_result"
    }
   ],
   "source": [
    "#Podemos observar una gran dispersion de datos con respecto a mla media\n",
    "Hosp_test['Age'].var()"
   ]
  },
  {
   "attachments": {},
   "cell_type": "markdown",
   "metadata": {},
   "source": [
    "Buscamos los quantiles y la media\n",
    "La media (sumar todos los datos y dividirlos por la cantidad de datos que tengas), no es conveniente tenerla en cuanta si hay outliers, ya que pueden afectar en gran medida su valor. En este caso podemos observar que la media y la mediana son muy parecidas por lo que podemos concluir que los outliers no afectan demasiado a su valor."
   ]
  },
  {
   "cell_type": "code",
   "execution_count": 40,
   "metadata": {},
   "outputs": [
    {
     "data": {
      "text/plain": [
       "2.0"
      ]
     },
     "execution_count": 40,
     "metadata": {},
     "output_type": "execute_result"
    }
   ],
   "source": [
    "Hosp_test['Available Extra Rooms in Hospital'].quantile(0.25)"
   ]
  },
  {
   "cell_type": "code",
   "execution_count": 41,
   "metadata": {},
   "outputs": [
    {
     "data": {
      "text/plain": [
       "3.0"
      ]
     },
     "execution_count": 41,
     "metadata": {},
     "output_type": "execute_result"
    }
   ],
   "source": [
    "#Este valor corresponde a la media\n",
    "Hosp_test['Available Extra Rooms in Hospital'].quantile(0.5)"
   ]
  },
  {
   "cell_type": "code",
   "execution_count": 42,
   "metadata": {},
   "outputs": [
    {
     "data": {
      "text/plain": [
       "4.0"
      ]
     },
     "execution_count": 42,
     "metadata": {},
     "output_type": "execute_result"
    }
   ],
   "source": [
    "Hosp_test['Available Extra Rooms in Hospital'].quantile(0.75)"
   ]
  },
  {
   "cell_type": "code",
   "execution_count": 43,
   "metadata": {},
   "outputs": [
    {
     "data": {
      "text/plain": [
       "2.0"
      ]
     },
     "execution_count": 43,
     "metadata": {},
     "output_type": "execute_result"
    }
   ],
   "source": [
    "Hosp_test['staff_available'].quantile(0.25)"
   ]
  },
  {
   "cell_type": "code",
   "execution_count": 44,
   "metadata": {},
   "outputs": [
    {
     "data": {
      "text/plain": [
       "5.0"
      ]
     },
     "execution_count": 44,
     "metadata": {},
     "output_type": "execute_result"
    }
   ],
   "source": [
    "#Este valor corresponde a la media\n",
    "Hosp_test['staff_available'].quantile(0.5)"
   ]
  },
  {
   "cell_type": "code",
   "execution_count": 45,
   "metadata": {},
   "outputs": [
    {
     "data": {
      "text/plain": [
       "8.0"
      ]
     },
     "execution_count": 45,
     "metadata": {},
     "output_type": "execute_result"
    }
   ],
   "source": [
    "Hosp_test['staff_available'].quantile(0.75)"
   ]
  },
  {
   "cell_type": "code",
   "execution_count": 46,
   "metadata": {},
   "outputs": [
    {
     "data": {
      "text/plain": [
       "30.0"
      ]
     },
     "execution_count": 46,
     "metadata": {},
     "output_type": "execute_result"
    }
   ],
   "source": [
    "Hosp_test['Age'].quantile(0.25)"
   ]
  },
  {
   "cell_type": "code",
   "execution_count": 47,
   "metadata": {},
   "outputs": [
    {
     "data": {
      "text/plain": [
       "40.0"
      ]
     },
     "execution_count": 47,
     "metadata": {},
     "output_type": "execute_result"
    }
   ],
   "source": [
    "#Este valor corresponde a la media\n",
    "Hosp_test['Age'].quantile(0.50)"
   ]
  },
  {
   "cell_type": "code",
   "execution_count": 48,
   "metadata": {},
   "outputs": [
    {
     "data": {
      "text/plain": [
       "50.0"
      ]
     },
     "execution_count": 48,
     "metadata": {},
     "output_type": "execute_result"
    }
   ],
   "source": [
    "Hosp_test['Age'].quantile(0.75)"
   ]
  },
  {
   "cell_type": "code",
   "execution_count": 49,
   "metadata": {},
   "outputs": [
    {
     "data": {
      "text/plain": [
       "2.0"
      ]
     },
     "execution_count": 49,
     "metadata": {},
     "output_type": "execute_result"
    }
   ],
   "source": [
    "Hosp_test['Visitors with Patient'].quantile(.25)"
   ]
  },
  {
   "cell_type": "code",
   "execution_count": 50,
   "metadata": {},
   "outputs": [
    {
     "data": {
      "text/plain": [
       "3.0"
      ]
     },
     "execution_count": 50,
     "metadata": {},
     "output_type": "execute_result"
    }
   ],
   "source": [
    "#Este valor corresponde a la media\n",
    "Hosp_test['Visitors with Patient'].quantile(.5)"
   ]
  },
  {
   "cell_type": "code",
   "execution_count": 51,
   "metadata": {},
   "outputs": [
    {
     "data": {
      "text/plain": [
       "4.0"
      ]
     },
     "execution_count": 51,
     "metadata": {},
     "output_type": "execute_result"
    }
   ],
   "source": [
    "Hosp_test['Visitors with Patient'].quantile(.75)"
   ]
  },
  {
   "cell_type": "code",
   "execution_count": 52,
   "metadata": {},
   "outputs": [
    {
     "data": {
      "text/plain": [
       "4067.37553975"
      ]
     },
     "execution_count": 52,
     "metadata": {},
     "output_type": "execute_result"
    }
   ],
   "source": [
    "#Este valor corresponde a la media\n",
    "Hosp_test['Admission_Deposit'].quantile(.25)"
   ]
  },
  {
   "cell_type": "code",
   "execution_count": 53,
   "metadata": {},
   "outputs": [
    {
     "data": {
      "text/plain": [
       "4624.372449"
      ]
     },
     "execution_count": 53,
     "metadata": {},
     "output_type": "execute_result"
    }
   ],
   "source": [
    "Hosp_test['Admission_Deposit'].quantile(.5)"
   ]
  },
  {
   "cell_type": "code",
   "execution_count": 54,
   "metadata": {},
   "outputs": [
    {
     "data": {
      "text/plain": [
       "5088.489369499999"
      ]
     },
     "execution_count": 54,
     "metadata": {},
     "output_type": "execute_result"
    }
   ],
   "source": [
    "Hosp_test['Admission_Deposit'].quantile(.75)"
   ]
  },
  {
   "attachments": {},
   "cell_type": "markdown",
   "metadata": {},
   "source": [
    "Vizualizo los Quartiles, la media y los outliers con grafico de cajas"
   ]
  },
  {
   "cell_type": "code",
   "execution_count": 55,
   "metadata": {},
   "outputs": [
    {
     "data": {
      "text/plain": [
       "<AxesSubplot: >"
      ]
     },
     "execution_count": 55,
     "metadata": {},
     "output_type": "execute_result"
    },
    {
     "data": {
      "image/png": "[encoded data removed]",
      "text/plain": [
       "<Figure size 432x288 with 1 Axes>"
      ]
     },
     "metadata": {
      "needs_background": "light"
     },
     "output_type": "display_data"
    }
   ],
   "source": [
    "Hosp_test.boxplot(column=['Available Extra Rooms in Hospital'])\n",
    "#Podemos ver que hay algunos outliers"
   ]
  },
  {
   "cell_type": "code",
   "execution_count": 56,
   "metadata": {},
   "outputs": [
    {
     "data": {
      "text/plain": [
       "<AxesSubplot: >"
      ]
     },
     "execution_count": 56,
     "metadata": {},
     "output_type": "execute_result"
    },
    {
     "data": {
      "image/png": "[encoded data removed]",
      "text/plain": [
       "<Figure size 640x480 with 1 Axes>"
      ]
     },
     "metadata": {},
     "output_type": "display_data"
    }
   ],
   "source": [
    "Hosp_test.boxplot(column=['staff_available'])\n",
    "#Podemos ver que no hay outliers"
   ]
  },
  {
   "cell_type": "code",
   "execution_count": 57,
   "metadata": {},
   "outputs": [
    {
     "data": {
      "text/plain": [
       "<AxesSubplot: >"
      ]
     },
     "execution_count": 57,
     "metadata": {},
     "output_type": "execute_result"
    },
    {
     "data": {
      "image/png": "[encoded data removed]",
      "text/plain": [
       "<Figure size 640x480 with 1 Axes>"
      ]
     },
     "metadata": {},
     "output_type": "display_data"
    }
   ],
   "source": [
    "Hosp_test.boxplot(column=['Visitors with Patient'])"
   ]
  },
  {
   "cell_type": "code",
   "execution_count": 58,
   "metadata": {},
   "outputs": [
    {
     "data": {
      "text/plain": [
       "<AxesSubplot: >"
      ]
     },
     "execution_count": 58,
     "metadata": {},
     "output_type": "execute_result"
    },
    {
     "data": {
      "image/png": "[encoded data removed]",
      "text/plain": [
       "<Figure size 640x480 with 1 Axes>"
      ]
     },
     "metadata": {},
     "output_type": "display_data"
    }
   ],
   "source": [
    "Hosp_test.boxplot(column=['Admission_Deposit'])"
   ]
  },
  {
   "cell_type": "code",
   "execution_count": 59,
   "metadata": {},
   "outputs": [
    {
     "data": {
      "text/plain": [
       "<AxesSubplot: >"
      ]
     },
     "execution_count": 59,
     "metadata": {},
     "output_type": "execute_result"
    },
    {
     "data": {
      "image/png": "[encoded data removed]",
      "text/plain": [
       "<Figure size 640x480 with 1 Axes>"
      ]
     },
     "metadata": {},
     "output_type": "display_data"
    }
   ],
   "source": [
    "Hosp_test.boxplot(column=['Age'])"
   ]
  },
  {
   "cell_type": "code",
   "execution_count": 60,
   "metadata": {},
   "outputs": [
    {
     "data": {
      "text/html": [
       "<div>\n",
       "<style scoped>\n",
       "    .dataframe tbody tr th:only-of-type {\n",
       "        vertical-align: middle;\n",
       "    }\n",
       "\n",
       "    .dataframe tbody tr th {\n",
       "        vertical-align: top;\n",
       "    }\n",
       "\n",
       "    .dataframe thead th {\n",
       "        text-align: right;\n",
       "    }\n",
       "</style>\n",
       "<table border=\"1\" class=\"dataframe\">\n",
       "  <thead>\n",
       "    <tr style=\"text-align: right;\">\n",
       "      <th></th>\n",
       "      <th>Available Extra Rooms in Hospital</th>\n",
       "      <th>Department</th>\n",
       "      <th>Ward_Facility_Code</th>\n",
       "      <th>doctor_name</th>\n",
       "      <th>staff_available</th>\n",
       "      <th>patientid</th>\n",
       "      <th>Age</th>\n",
       "      <th>gender</th>\n",
       "      <th>Type of Admission</th>\n",
       "      <th>Severity of Illness</th>\n",
       "      <th>health_conditions</th>\n",
       "      <th>Visitors with Patient</th>\n",
       "      <th>Insurance</th>\n",
       "      <th>Admission_Deposit</th>\n",
       "      <th>Stay (in days)</th>\n",
       "    </tr>\n",
       "  </thead>\n",
       "  <tbody>\n",
       "    <tr>\n",
       "      <th>0</th>\n",
       "      <td>4</td>\n",
       "      <td>gynecology</td>\n",
       "      <td>D</td>\n",
       "      <td>Dr Sophia</td>\n",
       "      <td>0</td>\n",
       "      <td>33070</td>\n",
       "      <td>50</td>\n",
       "      <td>Female</td>\n",
       "      <td>Trauma</td>\n",
       "      <td>Extreme</td>\n",
       "      <td>Diabetes</td>\n",
       "      <td>4</td>\n",
       "      <td>Yes</td>\n",
       "      <td>2966.408696</td>\n",
       "      <td>8</td>\n",
       "    </tr>\n",
       "    <tr>\n",
       "      <th>1</th>\n",
       "      <td>4</td>\n",
       "      <td>gynecology</td>\n",
       "      <td>B</td>\n",
       "      <td>Dr Sophia</td>\n",
       "      <td>2</td>\n",
       "      <td>34808</td>\n",
       "      <td>40</td>\n",
       "      <td>Female</td>\n",
       "      <td>Trauma</td>\n",
       "      <td>Minor</td>\n",
       "      <td>Heart disease</td>\n",
       "      <td>2</td>\n",
       "      <td>No</td>\n",
       "      <td>3554.835677</td>\n",
       "      <td>9</td>\n",
       "    </tr>\n",
       "    <tr>\n",
       "      <th>2</th>\n",
       "      <td>2</td>\n",
       "      <td>gynecology</td>\n",
       "      <td>B</td>\n",
       "      <td>Dr Sophia</td>\n",
       "      <td>8</td>\n",
       "      <td>44577</td>\n",
       "      <td>30</td>\n",
       "      <td>Female</td>\n",
       "      <td>Trauma</td>\n",
       "      <td>Extreme</td>\n",
       "      <td>Diabetes</td>\n",
       "      <td>2</td>\n",
       "      <td>Yes</td>\n",
       "      <td>5624.733654</td>\n",
       "      <td>7</td>\n",
       "    </tr>\n",
       "    <tr>\n",
       "      <th>3</th>\n",
       "      <td>4</td>\n",
       "      <td>gynecology</td>\n",
       "      <td>D</td>\n",
       "      <td>Dr Olivia</td>\n",
       "      <td>7</td>\n",
       "      <td>3695</td>\n",
       "      <td>40</td>\n",
       "      <td>Female</td>\n",
       "      <td>Urgent</td>\n",
       "      <td>Moderate</td>\n",
       "      <td>None</td>\n",
       "      <td>4</td>\n",
       "      <td>No</td>\n",
       "      <td>4814.149231</td>\n",
       "      <td>8</td>\n",
       "    </tr>\n",
       "    <tr>\n",
       "      <th>4</th>\n",
       "      <td>2</td>\n",
       "      <td>anesthesia</td>\n",
       "      <td>E</td>\n",
       "      <td>Dr Mark</td>\n",
       "      <td>10</td>\n",
       "      <td>108956</td>\n",
       "      <td>80</td>\n",
       "      <td>Male</td>\n",
       "      <td>Trauma</td>\n",
       "      <td>Moderate</td>\n",
       "      <td>Diabetes</td>\n",
       "      <td>2</td>\n",
       "      <td>No</td>\n",
       "      <td>5169.269637</td>\n",
       "      <td>34</td>\n",
       "    </tr>\n",
       "    <tr>\n",
       "      <th>...</th>\n",
       "      <td>...</td>\n",
       "      <td>...</td>\n",
       "      <td>...</td>\n",
       "      <td>...</td>\n",
       "      <td>...</td>\n",
       "      <td>...</td>\n",
       "      <td>...</td>\n",
       "      <td>...</td>\n",
       "      <td>...</td>\n",
       "      <td>...</td>\n",
       "      <td>...</td>\n",
       "      <td>...</td>\n",
       "      <td>...</td>\n",
       "      <td>...</td>\n",
       "      <td>...</td>\n",
       "    </tr>\n",
       "    <tr>\n",
       "      <th>409995</th>\n",
       "      <td>1</td>\n",
       "      <td>gynecology</td>\n",
       "      <td>D</td>\n",
       "      <td>Dr Sarah</td>\n",
       "      <td>1</td>\n",
       "      <td>63105</td>\n",
       "      <td>40</td>\n",
       "      <td>Female</td>\n",
       "      <td>Trauma</td>\n",
       "      <td>Minor</td>\n",
       "      <td>Asthama</td>\n",
       "      <td>3</td>\n",
       "      <td>Yes</td>\n",
       "      <td>3902.291076</td>\n",
       "      <td>8</td>\n",
       "    </tr>\n",
       "    <tr>\n",
       "      <th>409996</th>\n",
       "      <td>5</td>\n",
       "      <td>gynecology</td>\n",
       "      <td>D</td>\n",
       "      <td>Dr Nathan</td>\n",
       "      <td>5</td>\n",
       "      <td>129292</td>\n",
       "      <td>30</td>\n",
       "      <td>Female</td>\n",
       "      <td>Trauma</td>\n",
       "      <td>Extreme</td>\n",
       "      <td>Other</td>\n",
       "      <td>4</td>\n",
       "      <td>No</td>\n",
       "      <td>4771.995223</td>\n",
       "      <td>9</td>\n",
       "    </tr>\n",
       "    <tr>\n",
       "      <th>409997</th>\n",
       "      <td>4</td>\n",
       "      <td>gynecology</td>\n",
       "      <td>D</td>\n",
       "      <td>Dr Sarah</td>\n",
       "      <td>9</td>\n",
       "      <td>11399</td>\n",
       "      <td>30</td>\n",
       "      <td>Female</td>\n",
       "      <td>Emergency</td>\n",
       "      <td>Minor</td>\n",
       "      <td>Asthama</td>\n",
       "      <td>4</td>\n",
       "      <td>Yes</td>\n",
       "      <td>3816.994210</td>\n",
       "      <td>9</td>\n",
       "    </tr>\n",
       "    <tr>\n",
       "      <th>409998</th>\n",
       "      <td>10</td>\n",
       "      <td>gynecology</td>\n",
       "      <td>D</td>\n",
       "      <td>Dr Olivia</td>\n",
       "      <td>10</td>\n",
       "      <td>75003</td>\n",
       "      <td>30</td>\n",
       "      <td>Female</td>\n",
       "      <td>Trauma</td>\n",
       "      <td>Moderate</td>\n",
       "      <td>Other</td>\n",
       "      <td>2</td>\n",
       "      <td>Yes</td>\n",
       "      <td>3841.577491</td>\n",
       "      <td>9</td>\n",
       "    </tr>\n",
       "    <tr>\n",
       "      <th>409999</th>\n",
       "      <td>3</td>\n",
       "      <td>gynecology</td>\n",
       "      <td>F</td>\n",
       "      <td>Dr Nathan</td>\n",
       "      <td>0</td>\n",
       "      <td>128183</td>\n",
       "      <td>50</td>\n",
       "      <td>Female</td>\n",
       "      <td>Trauma</td>\n",
       "      <td>Minor</td>\n",
       "      <td>Other</td>\n",
       "      <td>8</td>\n",
       "      <td>Yes</td>\n",
       "      <td>4329.046412</td>\n",
       "      <td>8</td>\n",
       "    </tr>\n",
       "  </tbody>\n",
       "</table>\n",
       "<p>410000 rows × 15 columns</p>\n",
       "</div>"
      ],
      "text/plain": [
       "        Available Extra Rooms in Hospital  Department Ward_Facility_Code  \\\n",
       "0                                       4  gynecology                  D   \n",
       "1                                       4  gynecology                  B   \n",
       "2                                       2  gynecology                  B   \n",
       "3                                       4  gynecology                  D   \n",
       "4                                       2  anesthesia                  E   \n",
       "...                                   ...         ...                ...   \n",
       "409995                                  1  gynecology                  D   \n",
       "409996                                  5  gynecology                  D   \n",
       "409997                                  4  gynecology                  D   \n",
       "409998                                 10  gynecology                  D   \n",
       "409999                                  3  gynecology                  F   \n",
       "\n",
       "       doctor_name  staff_available  patientid  Age  gender Type of Admission  \\\n",
       "0        Dr Sophia                0      33070   50  Female            Trauma   \n",
       "1        Dr Sophia                2      34808   40  Female            Trauma   \n",
       "2        Dr Sophia                8      44577   30  Female            Trauma   \n",
       "3        Dr Olivia                7       3695   40  Female            Urgent   \n",
       "4          Dr Mark               10     108956   80    Male            Trauma   \n",
       "...            ...              ...        ...  ...     ...               ...   \n",
       "409995    Dr Sarah                1      63105   40  Female            Trauma   \n",
       "409996   Dr Nathan                5     129292   30  Female            Trauma   \n",
       "409997    Dr Sarah                9      11399   30  Female         Emergency   \n",
       "409998   Dr Olivia               10      75003   30  Female            Trauma   \n",
       "409999   Dr Nathan                0     128183   50  Female            Trauma   \n",
       "\n",
       "       Severity of Illness health_conditions  Visitors with Patient Insurance  \\\n",
       "0                  Extreme          Diabetes                      4       Yes   \n",
       "1                    Minor     Heart disease                      2        No   \n",
       "2                  Extreme          Diabetes                      2       Yes   \n",
       "3                 Moderate              None                      4        No   \n",
       "4                 Moderate          Diabetes                      2        No   \n",
       "...                    ...               ...                    ...       ...   \n",
       "409995               Minor           Asthama                      3       Yes   \n",
       "409996             Extreme             Other                      4        No   \n",
       "409997               Minor           Asthama                      4       Yes   \n",
       "409998            Moderate             Other                      2       Yes   \n",
       "409999               Minor             Other                      8       Yes   \n",
       "\n",
       "        Admission_Deposit  Stay (in days)  \n",
       "0             2966.408696               8  \n",
       "1             3554.835677               9  \n",
       "2             5624.733654               7  \n",
       "3             4814.149231               8  \n",
       "4             5169.269637              34  \n",
       "...                   ...             ...  \n",
       "409995        3902.291076               8  \n",
       "409996        4771.995223               9  \n",
       "409997        3816.994210               9  \n",
       "409998        3841.577491               9  \n",
       "409999        4329.046412               8  \n",
       "\n",
       "[410000 rows x 15 columns]"
      ]
     },
     "execution_count": 60,
     "metadata": {},
     "output_type": "execute_result"
    }
   ],
   "source": [
    "Hosp_train"
   ]
  },
  {
   "attachments": {},
   "cell_type": "markdown",
   "metadata": {},
   "source": [
    "Antes de seguir creare una columna para poder ver mejor la correlacion entre columnas. En esta columna llamare 1 a todos los valores, de la columna 'Stay (in days)',mayores o iguales a 8 y 0 al resto de valores "
   ]
  },
  {
   "cell_type": "code",
   "execution_count": 61,
   "metadata": {},
   "outputs": [],
   "source": [
    "Hosp_train['stay']=Hosp_train['Stay (in days)'].where(Hosp_train['Stay (in days)']<8,1)\n",
    "Hosp_train['stay']=Hosp_train['stay'].where(Hosp_train['stay']<2,0)"
   ]
  },
  {
   "cell_type": "code",
   "execution_count": 62,
   "metadata": {},
   "outputs": [
    {
     "data": {
      "text/plain": [
       "1    348618\n",
       "0     61382\n",
       "Name: stay, dtype: int64"
      ]
     },
     "execution_count": 62,
     "metadata": {},
     "output_type": "execute_result"
    }
   ],
   "source": [
    "Hosp_train['stay'].value_counts()"
   ]
  },
  {
   "attachments": {},
   "cell_type": "markdown",
   "metadata": {},
   "source": [
    "LLevare a cabo visualizaciones con graficos de Correlacion lineal para ver el grado de correlacion de los diferentes datos numericos con la columna 'Stay (in days)'"
   ]
  },
  {
   "cell_type": "code",
   "execution_count": 63,
   "metadata": {},
   "outputs": [
    {
     "data": {
      "image/png": "[encoded data removed]",
      "text/plain": [
       "<Figure size 600x400 with 1 Axes>"
      ]
     },
     "metadata": {},
     "output_type": "display_data"
    }
   ],
   "source": [
    "fig, ax = plt.subplots(1, 1, figsize=(6,4))\n",
    "ax.scatter(Hosp_train['Available Extra Rooms in Hospital'], y=Hosp_train['stay'], alpha= 0.8)\n",
    "ax.set_xlabel('Habitaciones disponibles')\n",
    "ax.set_ylabel('Estadia');\n",
    "#no se puede distinguir una correlacion entra las columnas"
   ]
  },
  {
   "cell_type": "code",
   "execution_count": 64,
   "metadata": {},
   "outputs": [
    {
     "data": {
      "image/png": "[encoded data removed]",
      "text/plain": [
       "<Figure size 600x400 with 1 Axes>"
      ]
     },
     "metadata": {},
     "output_type": "display_data"
    }
   ],
   "source": [
    "fig, ax = plt.subplots(1, 1, figsize=(6,4))\n",
    "ax.scatter(Hosp_train['Age'], y=Hosp_train['stay'], alpha= 0.8)\n",
    "ax.set_xlabel('Edad')\n",
    "ax.set_ylabel('Estadia');\n",
    "#Si la edad es mayor a 50 hay mas probabilidades de una estadía larga"
   ]
  },
  {
   "cell_type": "code",
   "execution_count": 65,
   "metadata": {},
   "outputs": [
    {
     "data": {
      "image/png": "[encoded data removed]",
      "text/plain": [
       "<Figure size 600x400 with 1 Axes>"
      ]
     },
     "metadata": {},
     "output_type": "display_data"
    }
   ],
   "source": [
    "fig, ax = plt.subplots(1, 1, figsize=(6,4))\n",
    "ax.scatter(Hosp_train['Admission_Deposit'], y=Hosp_train['stay'], alpha= 0.8)\n",
    "ax.set_xlabel('Deposito')\n",
    "ax.set_ylabel('Estadia');\n",
    "#De aqui solo podemos distinguir que aquellos que depositaron más de aprox 9000, tuvieron una estadia mas larga"
   ]
  },
  {
   "cell_type": "code",
   "execution_count": 66,
   "metadata": {},
   "outputs": [
    {
     "data": {
      "image/png": "[encoded data removed]",
      "text/plain": [
       "<Figure size 600x400 with 1 Axes>"
      ]
     },
     "metadata": {},
     "output_type": "display_data"
    }
   ],
   "source": [
    "fig, ax = plt.subplots(1, 1, figsize=(6,4))\n",
    "ax.scatter(Hosp_train['Visitors with Patient'], y=Hosp_train['stay'], alpha= 0.8)\n",
    "ax.set_xlabel('Visitas de parientes')\n",
    "ax.set_ylabel('Estadia');\n",
    "#No se puede distinguir una correlacion clara entre columnas"
   ]
  },
  {
   "cell_type": "code",
   "execution_count": 67,
   "metadata": {},
   "outputs": [
    {
     "data": {
      "image/png": "[encoded data removed]",
      "text/plain": [
       "<Figure size 600x400 with 1 Axes>"
      ]
     },
     "metadata": {},
     "output_type": "display_data"
    }
   ],
   "source": [
    "fig, ax = plt.subplots(1, 1, figsize=(6,4))\n",
    "ax.scatter(Hosp_train['staff_available'], y=Hosp_train['stay'], alpha= 0.8)\n",
    "ax.set_xlabel('Personal disponible')\n",
    "ax.set_ylabel('Estadia');\n"
   ]
  },
  {
   "attachments": {},
   "cell_type": "markdown",
   "metadata": {},
   "source": [
    "Analizare cada columna para saber si me puede arrojar una metrica que ayude o entorpezca a mi modelo de ML:\n",
    "\n",
    "-   Avaible Extra Rooms in Hospital: ya que por habitacion pueden entrar diversos numeros de pacientes, no nos puede dar una metrica de cuanto espacio puede haber disponible en el hospital. Ej: puede haber una habitacion que tiene 4 camas, o 3 habitaciones de una cama cada una. Ademas en el grafico previamente hecho, se puede observar que no hay corelacion distinguible.\n",
    "\n",
    "-   Departament: El departamento puede indicar una metrica fiable si es que cada departamento tiende a tener una cierta media de dias a sus pacientes.\n",
    "\n",
    "-   Ward_Facility_Code: El codigo de habitacion del paciente no entrega ninguna informacion ya que no se cual es la 'regla' de este codigo.\n",
    "\n",
    "-   doctor_name: El nombre del doctor no es una variable que pueda indicar cuantos dias se quedara internado un paciente, esto depende mas de el estado y la enfermedad del paciente.\n",
    "\n",
    "-   staff_avaible: En el grafico previamente hecho podemos observar que no hay correlacion entre el personal disponible y la cantidad de dias de internación.\n",
    "\n",
    "-   Patientid: A pesar de ayudar a saber quien es el paciente esto no nos ayudara, ya que no siempre se enferma uno de la misma patologia y por ende el tiempo de reposo en el hospital puede variar para una misma persona. Ademas podria crear una falsa correlacion, por ej: los numeros mayorees a x.\n",
    "\n",
    "-   Age: esta metrica si nos puede ayudar ya que cuanto mas grande sea el paciente mas grave puede tornar a ser una enfermedad.\n",
    "\n",
    "-   gender: Hay algunas enfermedades que afectan mas a un solo sexo, por lo que esto podria llegar a ayudar. Tendre que revisar si la variable afecta o no.\n",
    "\n",
    "-   Type of Admission: Esto nos puede ayudar, ya que normalmente indiuca el tiempo de internado.\n",
    "\n",
    "-   Severity of Illness: La situacion inicial del paciente suele indicar el tiempo de recuperacion del mismo.\n",
    "\n",
    "-   health_conditions: La condicion de salud del paciente puede ayudarnos a saber una tendencia a el tiempo de recuperacion.\n",
    "\n",
    "-   Visitors with Patient: La cantidad de parientes que lo visite no afectara la recuperacion ni el tiempo del mismo, como pudimos ver en el grafico anterior.\n",
    "\n",
    "-   Insurance: Tendre que revisar si es una variable que afecte o no.\n",
    "\n",
    "-   Admission_Deposit: No afectara su tiempo de recuperacion.\n",
    "\n",
    "-   Stay (in days): Esto nos indica los dias de recuperacion."
   ]
  },
  {
   "attachments": {},
   "cell_type": "markdown",
   "metadata": {},
   "source": [
    "Eliminare las columnas que no necesito"
   ]
  },
  {
   "cell_type": "code",
   "execution_count": 68,
   "metadata": {},
   "outputs": [],
   "source": [
    "Hosp_train = Hosp_train.drop(columns=['Available Extra Rooms in Hospital','Ward_Facility_Code', 'doctor_name', 'staff_available', 'patientid','Visitors with Patient', 'Admission_Deposit'])\n"
   ]
  },
  {
   "cell_type": "code",
   "execution_count": 69,
   "metadata": {},
   "outputs": [
    {
     "data": {
      "text/html": [
       "<div>\n",
       "<style scoped>\n",
       "    .dataframe tbody tr th:only-of-type {\n",
       "        vertical-align: middle;\n",
       "    }\n",
       "\n",
       "    .dataframe tbody tr th {\n",
       "        vertical-align: top;\n",
       "    }\n",
       "\n",
       "    .dataframe thead th {\n",
       "        text-align: right;\n",
       "    }\n",
       "</style>\n",
       "<table border=\"1\" class=\"dataframe\">\n",
       "  <thead>\n",
       "    <tr style=\"text-align: right;\">\n",
       "      <th></th>\n",
       "      <th>Department</th>\n",
       "      <th>Age</th>\n",
       "      <th>gender</th>\n",
       "      <th>Type of Admission</th>\n",
       "      <th>Severity of Illness</th>\n",
       "      <th>health_conditions</th>\n",
       "      <th>Insurance</th>\n",
       "      <th>Stay (in days)</th>\n",
       "      <th>stay</th>\n",
       "    </tr>\n",
       "  </thead>\n",
       "  <tbody>\n",
       "    <tr>\n",
       "      <th>0</th>\n",
       "      <td>gynecology</td>\n",
       "      <td>50</td>\n",
       "      <td>Female</td>\n",
       "      <td>Trauma</td>\n",
       "      <td>Extreme</td>\n",
       "      <td>Diabetes</td>\n",
       "      <td>Yes</td>\n",
       "      <td>8</td>\n",
       "      <td>1</td>\n",
       "    </tr>\n",
       "    <tr>\n",
       "      <th>1</th>\n",
       "      <td>gynecology</td>\n",
       "      <td>40</td>\n",
       "      <td>Female</td>\n",
       "      <td>Trauma</td>\n",
       "      <td>Minor</td>\n",
       "      <td>Heart disease</td>\n",
       "      <td>No</td>\n",
       "      <td>9</td>\n",
       "      <td>1</td>\n",
       "    </tr>\n",
       "    <tr>\n",
       "      <th>2</th>\n",
       "      <td>gynecology</td>\n",
       "      <td>30</td>\n",
       "      <td>Female</td>\n",
       "      <td>Trauma</td>\n",
       "      <td>Extreme</td>\n",
       "      <td>Diabetes</td>\n",
       "      <td>Yes</td>\n",
       "      <td>7</td>\n",
       "      <td>0</td>\n",
       "    </tr>\n",
       "    <tr>\n",
       "      <th>3</th>\n",
       "      <td>gynecology</td>\n",
       "      <td>40</td>\n",
       "      <td>Female</td>\n",
       "      <td>Urgent</td>\n",
       "      <td>Moderate</td>\n",
       "      <td>None</td>\n",
       "      <td>No</td>\n",
       "      <td>8</td>\n",
       "      <td>1</td>\n",
       "    </tr>\n",
       "    <tr>\n",
       "      <th>4</th>\n",
       "      <td>anesthesia</td>\n",
       "      <td>80</td>\n",
       "      <td>Male</td>\n",
       "      <td>Trauma</td>\n",
       "      <td>Moderate</td>\n",
       "      <td>Diabetes</td>\n",
       "      <td>No</td>\n",
       "      <td>34</td>\n",
       "      <td>1</td>\n",
       "    </tr>\n",
       "    <tr>\n",
       "      <th>...</th>\n",
       "      <td>...</td>\n",
       "      <td>...</td>\n",
       "      <td>...</td>\n",
       "      <td>...</td>\n",
       "      <td>...</td>\n",
       "      <td>...</td>\n",
       "      <td>...</td>\n",
       "      <td>...</td>\n",
       "      <td>...</td>\n",
       "    </tr>\n",
       "    <tr>\n",
       "      <th>409995</th>\n",
       "      <td>gynecology</td>\n",
       "      <td>40</td>\n",
       "      <td>Female</td>\n",
       "      <td>Trauma</td>\n",
       "      <td>Minor</td>\n",
       "      <td>Asthama</td>\n",
       "      <td>Yes</td>\n",
       "      <td>8</td>\n",
       "      <td>1</td>\n",
       "    </tr>\n",
       "    <tr>\n",
       "      <th>409996</th>\n",
       "      <td>gynecology</td>\n",
       "      <td>30</td>\n",
       "      <td>Female</td>\n",
       "      <td>Trauma</td>\n",
       "      <td>Extreme</td>\n",
       "      <td>Other</td>\n",
       "      <td>No</td>\n",
       "      <td>9</td>\n",
       "      <td>1</td>\n",
       "    </tr>\n",
       "    <tr>\n",
       "      <th>409997</th>\n",
       "      <td>gynecology</td>\n",
       "      <td>30</td>\n",
       "      <td>Female</td>\n",
       "      <td>Emergency</td>\n",
       "      <td>Minor</td>\n",
       "      <td>Asthama</td>\n",
       "      <td>Yes</td>\n",
       "      <td>9</td>\n",
       "      <td>1</td>\n",
       "    </tr>\n",
       "    <tr>\n",
       "      <th>409998</th>\n",
       "      <td>gynecology</td>\n",
       "      <td>30</td>\n",
       "      <td>Female</td>\n",
       "      <td>Trauma</td>\n",
       "      <td>Moderate</td>\n",
       "      <td>Other</td>\n",
       "      <td>Yes</td>\n",
       "      <td>9</td>\n",
       "      <td>1</td>\n",
       "    </tr>\n",
       "    <tr>\n",
       "      <th>409999</th>\n",
       "      <td>gynecology</td>\n",
       "      <td>50</td>\n",
       "      <td>Female</td>\n",
       "      <td>Trauma</td>\n",
       "      <td>Minor</td>\n",
       "      <td>Other</td>\n",
       "      <td>Yes</td>\n",
       "      <td>8</td>\n",
       "      <td>1</td>\n",
       "    </tr>\n",
       "  </tbody>\n",
       "</table>\n",
       "<p>410000 rows × 9 columns</p>\n",
       "</div>"
      ],
      "text/plain": [
       "        Department  Age  gender Type of Admission Severity of Illness  \\\n",
       "0       gynecology   50  Female            Trauma             Extreme   \n",
       "1       gynecology   40  Female            Trauma               Minor   \n",
       "2       gynecology   30  Female            Trauma             Extreme   \n",
       "3       gynecology   40  Female            Urgent            Moderate   \n",
       "4       anesthesia   80    Male            Trauma            Moderate   \n",
       "...            ...  ...     ...               ...                 ...   \n",
       "409995  gynecology   40  Female            Trauma               Minor   \n",
       "409996  gynecology   30  Female            Trauma             Extreme   \n",
       "409997  gynecology   30  Female         Emergency               Minor   \n",
       "409998  gynecology   30  Female            Trauma            Moderate   \n",
       "409999  gynecology   50  Female            Trauma               Minor   \n",
       "\n",
       "       health_conditions Insurance  Stay (in days)  stay  \n",
       "0               Diabetes       Yes               8     1  \n",
       "1          Heart disease        No               9     1  \n",
       "2               Diabetes       Yes               7     0  \n",
       "3                   None        No               8     1  \n",
       "4               Diabetes        No              34     1  \n",
       "...                  ...       ...             ...   ...  \n",
       "409995           Asthama       Yes               8     1  \n",
       "409996             Other        No               9     1  \n",
       "409997           Asthama       Yes               9     1  \n",
       "409998             Other       Yes               9     1  \n",
       "409999             Other       Yes               8     1  \n",
       "\n",
       "[410000 rows x 9 columns]"
      ]
     },
     "execution_count": 69,
     "metadata": {},
     "output_type": "execute_result"
    }
   ],
   "source": [
    "Hosp_train"
   ]
  },
  {
   "cell_type": "code",
   "execution_count": 70,
   "metadata": {},
   "outputs": [
    {
     "data": {
      "text/html": [
       "<div>\n",
       "<style scoped>\n",
       "    .dataframe tbody tr th:only-of-type {\n",
       "        vertical-align: middle;\n",
       "    }\n",
       "\n",
       "    .dataframe tbody tr th {\n",
       "        vertical-align: top;\n",
       "    }\n",
       "\n",
       "    .dataframe thead th {\n",
       "        text-align: right;\n",
       "    }\n",
       "</style>\n",
       "<table border=\"1\" class=\"dataframe\">\n",
       "  <thead>\n",
       "    <tr style=\"text-align: right;\">\n",
       "      <th></th>\n",
       "      <th>Department</th>\n",
       "      <th>Age</th>\n",
       "      <th>gender</th>\n",
       "      <th>Type of Admission</th>\n",
       "      <th>Severity of Illness</th>\n",
       "      <th>health_conditions</th>\n",
       "      <th>Insurance</th>\n",
       "    </tr>\n",
       "  </thead>\n",
       "  <tbody>\n",
       "    <tr>\n",
       "      <th>0</th>\n",
       "      <td>gynecology</td>\n",
       "      <td>30</td>\n",
       "      <td>Female</td>\n",
       "      <td>Trauma</td>\n",
       "      <td>Moderate</td>\n",
       "      <td>Other</td>\n",
       "      <td>No</td>\n",
       "    </tr>\n",
       "    <tr>\n",
       "      <th>1</th>\n",
       "      <td>TB &amp; Chest disease</td>\n",
       "      <td>60</td>\n",
       "      <td>Female</td>\n",
       "      <td>Trauma</td>\n",
       "      <td>Moderate</td>\n",
       "      <td>Asthama</td>\n",
       "      <td>Yes</td>\n",
       "    </tr>\n",
       "    <tr>\n",
       "      <th>2</th>\n",
       "      <td>radiotherapy</td>\n",
       "      <td>60</td>\n",
       "      <td>Other</td>\n",
       "      <td>Trauma</td>\n",
       "      <td>Moderate</td>\n",
       "      <td>None</td>\n",
       "      <td>No</td>\n",
       "    </tr>\n",
       "    <tr>\n",
       "      <th>3</th>\n",
       "      <td>gynecology</td>\n",
       "      <td>30</td>\n",
       "      <td>Female</td>\n",
       "      <td>Trauma</td>\n",
       "      <td>Moderate</td>\n",
       "      <td>None</td>\n",
       "      <td>Yes</td>\n",
       "    </tr>\n",
       "    <tr>\n",
       "      <th>4</th>\n",
       "      <td>anesthesia</td>\n",
       "      <td>60</td>\n",
       "      <td>Female</td>\n",
       "      <td>Trauma</td>\n",
       "      <td>Extreme</td>\n",
       "      <td>Diabetes</td>\n",
       "      <td>No</td>\n",
       "    </tr>\n",
       "    <tr>\n",
       "      <th>...</th>\n",
       "      <td>...</td>\n",
       "      <td>...</td>\n",
       "      <td>...</td>\n",
       "      <td>...</td>\n",
       "      <td>...</td>\n",
       "      <td>...</td>\n",
       "      <td>...</td>\n",
       "    </tr>\n",
       "    <tr>\n",
       "      <th>89995</th>\n",
       "      <td>gynecology</td>\n",
       "      <td>20</td>\n",
       "      <td>Female</td>\n",
       "      <td>Trauma</td>\n",
       "      <td>Minor</td>\n",
       "      <td>High Blood Pressure</td>\n",
       "      <td>No</td>\n",
       "    </tr>\n",
       "    <tr>\n",
       "      <th>89996</th>\n",
       "      <td>gynecology</td>\n",
       "      <td>40</td>\n",
       "      <td>Female</td>\n",
       "      <td>Emergency</td>\n",
       "      <td>Moderate</td>\n",
       "      <td>Other</td>\n",
       "      <td>No</td>\n",
       "    </tr>\n",
       "    <tr>\n",
       "      <th>89997</th>\n",
       "      <td>gynecology</td>\n",
       "      <td>20</td>\n",
       "      <td>Female</td>\n",
       "      <td>Emergency</td>\n",
       "      <td>Moderate</td>\n",
       "      <td>High Blood Pressure</td>\n",
       "      <td>No</td>\n",
       "    </tr>\n",
       "    <tr>\n",
       "      <th>89998</th>\n",
       "      <td>radiotherapy</td>\n",
       "      <td>70</td>\n",
       "      <td>Female</td>\n",
       "      <td>Trauma</td>\n",
       "      <td>Extreme</td>\n",
       "      <td>Diabetes</td>\n",
       "      <td>No</td>\n",
       "    </tr>\n",
       "    <tr>\n",
       "      <th>89999</th>\n",
       "      <td>gynecology</td>\n",
       "      <td>50</td>\n",
       "      <td>Female</td>\n",
       "      <td>Trauma</td>\n",
       "      <td>Moderate</td>\n",
       "      <td>Heart disease</td>\n",
       "      <td>Yes</td>\n",
       "    </tr>\n",
       "  </tbody>\n",
       "</table>\n",
       "<p>90000 rows × 7 columns</p>\n",
       "</div>"
      ],
      "text/plain": [
       "               Department  Age  gender Type of Admission Severity of Illness  \\\n",
       "0              gynecology   30  Female            Trauma            Moderate   \n",
       "1      TB & Chest disease   60  Female            Trauma            Moderate   \n",
       "2            radiotherapy   60   Other            Trauma            Moderate   \n",
       "3              gynecology   30  Female            Trauma            Moderate   \n",
       "4              anesthesia   60  Female            Trauma             Extreme   \n",
       "...                   ...  ...     ...               ...                 ...   \n",
       "89995          gynecology   20  Female            Trauma               Minor   \n",
       "89996          gynecology   40  Female         Emergency            Moderate   \n",
       "89997          gynecology   20  Female         Emergency            Moderate   \n",
       "89998        radiotherapy   70  Female            Trauma             Extreme   \n",
       "89999          gynecology   50  Female            Trauma            Moderate   \n",
       "\n",
       "         health_conditions Insurance  \n",
       "0                    Other        No  \n",
       "1                  Asthama       Yes  \n",
       "2                     None        No  \n",
       "3                     None       Yes  \n",
       "4                 Diabetes        No  \n",
       "...                    ...       ...  \n",
       "89995  High Blood Pressure        No  \n",
       "89996                Other        No  \n",
       "89997  High Blood Pressure        No  \n",
       "89998             Diabetes        No  \n",
       "89999        Heart disease       Yes  \n",
       "\n",
       "[90000 rows x 7 columns]"
      ]
     },
     "execution_count": 70,
     "metadata": {},
     "output_type": "execute_result"
    }
   ],
   "source": [
    "Hosp_test = Hosp_test.drop(columns=['Available Extra Rooms in Hospital','Ward_Facility_Code', 'doctor_name', 'staff_available', 'patientid','Visitors with Patient', 'Admission_Deposit'])\n",
    "Hosp_test"
   ]
  },
  {
   "attachments": {},
   "cell_type": "markdown",
   "metadata": {},
   "source": [
    "Vere la correlacion con las columnas faltantes"
   ]
  },
  {
   "cell_type": "code",
   "execution_count": 71,
   "metadata": {},
   "outputs": [
    {
     "data": {
      "text/html": [
       "<div>\n",
       "<style scoped>\n",
       "    .dataframe tbody tr th:only-of-type {\n",
       "        vertical-align: middle;\n",
       "    }\n",
       "\n",
       "    .dataframe tbody tr th {\n",
       "        vertical-align: top;\n",
       "    }\n",
       "\n",
       "    .dataframe thead th {\n",
       "        text-align: right;\n",
       "    }\n",
       "</style>\n",
       "<table border=\"1\" class=\"dataframe\">\n",
       "  <thead>\n",
       "    <tr style=\"text-align: right;\">\n",
       "      <th></th>\n",
       "      <th>Department</th>\n",
       "      <th>Age</th>\n",
       "      <th>gender</th>\n",
       "      <th>Type of Admission</th>\n",
       "      <th>Severity of Illness</th>\n",
       "      <th>health_conditions</th>\n",
       "      <th>Insurance</th>\n",
       "      <th>Stay (in days)</th>\n",
       "      <th>stay</th>\n",
       "    </tr>\n",
       "  </thead>\n",
       "  <tbody>\n",
       "    <tr>\n",
       "      <th>0</th>\n",
       "      <td>gynecology</td>\n",
       "      <td>50</td>\n",
       "      <td>Female</td>\n",
       "      <td>Trauma</td>\n",
       "      <td>Extreme</td>\n",
       "      <td>Diabetes</td>\n",
       "      <td>Yes</td>\n",
       "      <td>8</td>\n",
       "      <td>1</td>\n",
       "    </tr>\n",
       "    <tr>\n",
       "      <th>1</th>\n",
       "      <td>gynecology</td>\n",
       "      <td>40</td>\n",
       "      <td>Female</td>\n",
       "      <td>Trauma</td>\n",
       "      <td>Minor</td>\n",
       "      <td>Heart disease</td>\n",
       "      <td>No</td>\n",
       "      <td>9</td>\n",
       "      <td>1</td>\n",
       "    </tr>\n",
       "    <tr>\n",
       "      <th>3</th>\n",
       "      <td>gynecology</td>\n",
       "      <td>40</td>\n",
       "      <td>Female</td>\n",
       "      <td>Urgent</td>\n",
       "      <td>Moderate</td>\n",
       "      <td>None</td>\n",
       "      <td>No</td>\n",
       "      <td>8</td>\n",
       "      <td>1</td>\n",
       "    </tr>\n",
       "    <tr>\n",
       "      <th>4</th>\n",
       "      <td>anesthesia</td>\n",
       "      <td>80</td>\n",
       "      <td>Male</td>\n",
       "      <td>Trauma</td>\n",
       "      <td>Moderate</td>\n",
       "      <td>Diabetes</td>\n",
       "      <td>No</td>\n",
       "      <td>34</td>\n",
       "      <td>1</td>\n",
       "    </tr>\n",
       "    <tr>\n",
       "      <th>5</th>\n",
       "      <td>gynecology</td>\n",
       "      <td>30</td>\n",
       "      <td>Female</td>\n",
       "      <td>Trauma</td>\n",
       "      <td>Moderate</td>\n",
       "      <td>Other</td>\n",
       "      <td>Yes</td>\n",
       "      <td>11</td>\n",
       "      <td>1</td>\n",
       "    </tr>\n",
       "    <tr>\n",
       "      <th>...</th>\n",
       "      <td>...</td>\n",
       "      <td>...</td>\n",
       "      <td>...</td>\n",
       "      <td>...</td>\n",
       "      <td>...</td>\n",
       "      <td>...</td>\n",
       "      <td>...</td>\n",
       "      <td>...</td>\n",
       "      <td>...</td>\n",
       "    </tr>\n",
       "    <tr>\n",
       "      <th>409995</th>\n",
       "      <td>gynecology</td>\n",
       "      <td>40</td>\n",
       "      <td>Female</td>\n",
       "      <td>Trauma</td>\n",
       "      <td>Minor</td>\n",
       "      <td>Asthama</td>\n",
       "      <td>Yes</td>\n",
       "      <td>8</td>\n",
       "      <td>1</td>\n",
       "    </tr>\n",
       "    <tr>\n",
       "      <th>409996</th>\n",
       "      <td>gynecology</td>\n",
       "      <td>30</td>\n",
       "      <td>Female</td>\n",
       "      <td>Trauma</td>\n",
       "      <td>Extreme</td>\n",
       "      <td>Other</td>\n",
       "      <td>No</td>\n",
       "      <td>9</td>\n",
       "      <td>1</td>\n",
       "    </tr>\n",
       "    <tr>\n",
       "      <th>409997</th>\n",
       "      <td>gynecology</td>\n",
       "      <td>30</td>\n",
       "      <td>Female</td>\n",
       "      <td>Emergency</td>\n",
       "      <td>Minor</td>\n",
       "      <td>Asthama</td>\n",
       "      <td>Yes</td>\n",
       "      <td>9</td>\n",
       "      <td>1</td>\n",
       "    </tr>\n",
       "    <tr>\n",
       "      <th>409998</th>\n",
       "      <td>gynecology</td>\n",
       "      <td>30</td>\n",
       "      <td>Female</td>\n",
       "      <td>Trauma</td>\n",
       "      <td>Moderate</td>\n",
       "      <td>Other</td>\n",
       "      <td>Yes</td>\n",
       "      <td>9</td>\n",
       "      <td>1</td>\n",
       "    </tr>\n",
       "    <tr>\n",
       "      <th>409999</th>\n",
       "      <td>gynecology</td>\n",
       "      <td>50</td>\n",
       "      <td>Female</td>\n",
       "      <td>Trauma</td>\n",
       "      <td>Minor</td>\n",
       "      <td>Other</td>\n",
       "      <td>Yes</td>\n",
       "      <td>8</td>\n",
       "      <td>1</td>\n",
       "    </tr>\n",
       "  </tbody>\n",
       "</table>\n",
       "<p>348618 rows × 9 columns</p>\n",
       "</div>"
      ],
      "text/plain": [
       "        Department  Age  gender Type of Admission Severity of Illness  \\\n",
       "0       gynecology   50  Female            Trauma             Extreme   \n",
       "1       gynecology   40  Female            Trauma               Minor   \n",
       "3       gynecology   40  Female            Urgent            Moderate   \n",
       "4       anesthesia   80    Male            Trauma            Moderate   \n",
       "5       gynecology   30  Female            Trauma            Moderate   \n",
       "...            ...  ...     ...               ...                 ...   \n",
       "409995  gynecology   40  Female            Trauma               Minor   \n",
       "409996  gynecology   30  Female            Trauma             Extreme   \n",
       "409997  gynecology   30  Female         Emergency               Minor   \n",
       "409998  gynecology   30  Female            Trauma            Moderate   \n",
       "409999  gynecology   50  Female            Trauma               Minor   \n",
       "\n",
       "       health_conditions Insurance  Stay (in days)  stay  \n",
       "0               Diabetes       Yes               8     1  \n",
       "1          Heart disease        No               9     1  \n",
       "3                   None        No               8     1  \n",
       "4               Diabetes        No              34     1  \n",
       "5                  Other       Yes              11     1  \n",
       "...                  ...       ...             ...   ...  \n",
       "409995           Asthama       Yes               8     1  \n",
       "409996             Other        No               9     1  \n",
       "409997           Asthama       Yes               9     1  \n",
       "409998             Other       Yes               9     1  \n",
       "409999             Other       Yes               8     1  \n",
       "\n",
       "[348618 rows x 9 columns]"
      ]
     },
     "execution_count": 71,
     "metadata": {},
     "output_type": "execute_result"
    }
   ],
   "source": [
    "Hosp_train_mayor = Hosp_train[Hosp_train['stay']==1]\n",
    "Hosp_train_mayor"
   ]
  },
  {
   "cell_type": "code",
   "execution_count": 72,
   "metadata": {},
   "outputs": [
    {
     "data": {
      "text/plain": [
       "gynecology            281625\n",
       "radiotherapy           69132\n",
       "anesthesia             36250\n",
       "TB & Chest disease     18825\n",
       "surgery                 4168\n",
       "Name: Department, dtype: int64"
      ]
     },
     "execution_count": 72,
     "metadata": {},
     "output_type": "execute_result"
    }
   ],
   "source": [
    "#Vemos la columna Departament\n",
    "Hosp_train['Department'].value_counts()"
   ]
  },
  {
   "cell_type": "code",
   "execution_count": 73,
   "metadata": {},
   "outputs": [
    {
     "data": {
      "text/plain": [
       "gynecology            246616\n",
       "radiotherapy           43005\n",
       "anesthesia             36250\n",
       "TB & Chest disease     18579\n",
       "surgery                 4168\n",
       "Name: Department, dtype: int64"
      ]
     },
     "execution_count": 73,
     "metadata": {},
     "output_type": "execute_result"
    }
   ],
   "source": [
    "Hosp_train_mayor['Department'].value_counts()\n",
    "#Todos los casos de cirugia y anasthesia siguen siendo mayores a 8 dias de internacion, TB & chest disease casi no tuvo cambios. Los que departamentos de radiotherapy y gynecology son los más afectados,\n",
    "#muchos de sus casos ean menores a 8 dias de internacion"
   ]
  },
  {
   "cell_type": "code",
   "execution_count": 74,
   "metadata": {},
   "outputs": [
    {
     "data": {
      "text/plain": [
       "Female    299502\n",
       "Male       92605\n",
       "Other      17893\n",
       "Name: gender, dtype: int64"
      ]
     },
     "execution_count": 74,
     "metadata": {},
     "output_type": "execute_result"
    }
   ],
   "source": [
    "#Vemos la columna gender\n",
    "Hosp_train['gender'].value_counts()"
   ]
  },
  {
   "cell_type": "code",
   "execution_count": 75,
   "metadata": {},
   "outputs": [
    {
     "data": {
      "text/plain": [
       "Female    260842\n",
       "Male       73591\n",
       "Other      14185\n",
       "Name: gender, dtype: int64"
      ]
     },
     "execution_count": 75,
     "metadata": {},
     "output_type": "execute_result"
    }
   ],
   "source": [
    "Hosp_train_mayor['gender'].value_counts()\n",
    "#Podemos ver que el genero no afecta mucho la metrica, ya que female tenian 30000 casos aprox menores a 8 dias , male 20000 aprox y other 3000. Teniendo en cuenta el total de cada uno la diferencia\n",
    "#en porcentaje es minima, por lo que podemos concluir con que no afecta a la metrica la columna gender."
   ]
  },
  {
   "cell_type": "code",
   "execution_count": 76,
   "metadata": {},
   "outputs": [
    {
     "data": {
      "text/plain": [
       "Trauma       254698\n",
       "Emergency    111374\n",
       "Urgent        43928\n",
       "Name: Type of Admission, dtype: int64"
      ]
     },
     "execution_count": 76,
     "metadata": {},
     "output_type": "execute_result"
    }
   ],
   "source": [
    "#Vemos la columna Type of Admission\n",
    "Hosp_train['Type of Admission'].value_counts()"
   ]
  },
  {
   "cell_type": "code",
   "execution_count": 77,
   "metadata": {},
   "outputs": [
    {
     "data": {
      "text/plain": [
       "Trauma       216468\n",
       "Emergency     95325\n",
       "Urgent        36825\n",
       "Name: Type of Admission, dtype: int64"
      ]
     },
     "execution_count": 77,
     "metadata": {},
     "output_type": "execute_result"
    }
   ],
   "source": [
    "Hosp_train_mayor['Type of Admission'].value_counts()\n",
    "#Urgency tenia solo 1000 aprox casos que quedaron menos de 8 dias internados, Emergency 20000 aprox y Trauma 40000 aprox. Podemos concluir on que hay una mayor probabilidad de quedar internado por mas de 8 dias si entra por urgencias o emergencias"
   ]
  },
  {
   "cell_type": "code",
   "execution_count": 78,
   "metadata": {},
   "outputs": [
    {
     "data": {
      "text/plain": [
       "Moderate    230819\n",
       "Minor       107897\n",
       "Extreme      71284\n",
       "Name: Severity of Illness, dtype: int64"
      ]
     },
     "execution_count": 78,
     "metadata": {},
     "output_type": "execute_result"
    }
   ],
   "source": [
    "#Vemos la columna Severity of Illness\n",
    "Hosp_train['Severity of Illness'].value_counts()"
   ]
  },
  {
   "cell_type": "code",
   "execution_count": 79,
   "metadata": {},
   "outputs": [
    {
     "data": {
      "text/plain": [
       "Moderate    197366\n",
       "Minor        90792\n",
       "Extreme      60460\n",
       "Name: Severity of Illness, dtype: int64"
      ]
     },
     "execution_count": 79,
     "metadata": {},
     "output_type": "execute_result"
    }
   ],
   "source": [
    "Hosp_train_mayor['Severity of Illness'].value_counts()\n",
    "#Minor y Extreme solo tenian 10000 aprox que no se quedaron por mas de 8 dias, Moderate tenia 40000. Podemos concluir que los que entran con un estado moderado tienen menor posibilidad\n",
    "# de quedar internados por mas de 8 dias"
   ]
  },
  {
   "cell_type": "code",
   "execution_count": 80,
   "metadata": {},
   "outputs": [
    {
     "data": {
      "text/plain": [
       "None                   137202\n",
       "Other                   78335\n",
       "High Blood Pressure     64089\n",
       "Diabetes                58689\n",
       "Asthama                 50428\n",
       "Heart disease           21257\n",
       "Name: health_conditions, dtype: int64"
      ]
     },
     "execution_count": 80,
     "metadata": {},
     "output_type": "execute_result"
    }
   ],
   "source": [
    "#Vemos la columna healt_conditions\n",
    "Hosp_train['health_conditions'].value_counts()"
   ]
  },
  {
   "cell_type": "code",
   "execution_count": 81,
   "metadata": {},
   "outputs": [
    {
     "data": {
      "text/plain": [
       "None                   116485\n",
       "Other                   66858\n",
       "High Blood Pressure     54521\n",
       "Diabetes                49912\n",
       "Asthama                 42898\n",
       "Heart disease           17944\n",
       "Name: health_conditions, dtype: int64"
      ]
     },
     "execution_count": 81,
     "metadata": {},
     "output_type": "execute_result"
    }
   ],
   "source": [
    "Hosp_train_mayor['health_conditions'].value_counts()\n",
    "#Todos los que tienen enfermedades del corazon tienen una alta probabilidad de quedar internados por mas de 8 dias, los que no tienen condiciones especiales de salud tienen la menor probabilidad de quedar \n",
    "#internados por mas de 8 dias, Mientras que el resto esta en el medio."
   ]
  },
  {
   "cell_type": "code",
   "execution_count": 82,
   "metadata": {},
   "outputs": [
    {
     "data": {
      "text/plain": [
       "Yes    340499\n",
       "No      69501\n",
       "Name: Insurance, dtype: int64"
      ]
     },
     "execution_count": 82,
     "metadata": {},
     "output_type": "execute_result"
    }
   ],
   "source": [
    "Hosp_train['Insurance'].value_counts()"
   ]
  },
  {
   "cell_type": "code",
   "execution_count": 83,
   "metadata": {},
   "outputs": [
    {
     "data": {
      "text/plain": [
       "Yes    289462\n",
       "No      59156\n",
       "Name: Insurance, dtype: int64"
      ]
     },
     "execution_count": 83,
     "metadata": {},
     "output_type": "execute_result"
    }
   ],
   "source": [
    "Hosp_train_mayor['Insurance'].value_counts()\n",
    "#En porcentaje la diferencia entre los paciebntes con o sin seguro medico que estuvieron internados mas de 8 dias es minima. por lo que podemos asegurar que no afecta."
   ]
  },
  {
   "attachments": {},
   "cell_type": "markdown",
   "metadata": {},
   "source": [
    "Eliminare la columna de genero, ya que pude ver que no afecta a mis metricas en gran medida."
   ]
  },
  {
   "cell_type": "code",
   "execution_count": 84,
   "metadata": {},
   "outputs": [
    {
     "data": {
      "text/html": [
       "<div>\n",
       "<style scoped>\n",
       "    .dataframe tbody tr th:only-of-type {\n",
       "        vertical-align: middle;\n",
       "    }\n",
       "\n",
       "    .dataframe tbody tr th {\n",
       "        vertical-align: top;\n",
       "    }\n",
       "\n",
       "    .dataframe thead th {\n",
       "        text-align: right;\n",
       "    }\n",
       "</style>\n",
       "<table border=\"1\" class=\"dataframe\">\n",
       "  <thead>\n",
       "    <tr style=\"text-align: right;\">\n",
       "      <th></th>\n",
       "      <th>Department</th>\n",
       "      <th>Age</th>\n",
       "      <th>Type of Admission</th>\n",
       "      <th>Severity of Illness</th>\n",
       "      <th>health_conditions</th>\n",
       "    </tr>\n",
       "  </thead>\n",
       "  <tbody>\n",
       "    <tr>\n",
       "      <th>0</th>\n",
       "      <td>gynecology</td>\n",
       "      <td>30</td>\n",
       "      <td>Trauma</td>\n",
       "      <td>Moderate</td>\n",
       "      <td>Other</td>\n",
       "    </tr>\n",
       "    <tr>\n",
       "      <th>1</th>\n",
       "      <td>TB &amp; Chest disease</td>\n",
       "      <td>60</td>\n",
       "      <td>Trauma</td>\n",
       "      <td>Moderate</td>\n",
       "      <td>Asthama</td>\n",
       "    </tr>\n",
       "    <tr>\n",
       "      <th>2</th>\n",
       "      <td>radiotherapy</td>\n",
       "      <td>60</td>\n",
       "      <td>Trauma</td>\n",
       "      <td>Moderate</td>\n",
       "      <td>None</td>\n",
       "    </tr>\n",
       "    <tr>\n",
       "      <th>3</th>\n",
       "      <td>gynecology</td>\n",
       "      <td>30</td>\n",
       "      <td>Trauma</td>\n",
       "      <td>Moderate</td>\n",
       "      <td>None</td>\n",
       "    </tr>\n",
       "    <tr>\n",
       "      <th>4</th>\n",
       "      <td>anesthesia</td>\n",
       "      <td>60</td>\n",
       "      <td>Trauma</td>\n",
       "      <td>Extreme</td>\n",
       "      <td>Diabetes</td>\n",
       "    </tr>\n",
       "    <tr>\n",
       "      <th>...</th>\n",
       "      <td>...</td>\n",
       "      <td>...</td>\n",
       "      <td>...</td>\n",
       "      <td>...</td>\n",
       "      <td>...</td>\n",
       "    </tr>\n",
       "    <tr>\n",
       "      <th>89995</th>\n",
       "      <td>gynecology</td>\n",
       "      <td>20</td>\n",
       "      <td>Trauma</td>\n",
       "      <td>Minor</td>\n",
       "      <td>High Blood Pressure</td>\n",
       "    </tr>\n",
       "    <tr>\n",
       "      <th>89996</th>\n",
       "      <td>gynecology</td>\n",
       "      <td>40</td>\n",
       "      <td>Emergency</td>\n",
       "      <td>Moderate</td>\n",
       "      <td>Other</td>\n",
       "    </tr>\n",
       "    <tr>\n",
       "      <th>89997</th>\n",
       "      <td>gynecology</td>\n",
       "      <td>20</td>\n",
       "      <td>Emergency</td>\n",
       "      <td>Moderate</td>\n",
       "      <td>High Blood Pressure</td>\n",
       "    </tr>\n",
       "    <tr>\n",
       "      <th>89998</th>\n",
       "      <td>radiotherapy</td>\n",
       "      <td>70</td>\n",
       "      <td>Trauma</td>\n",
       "      <td>Extreme</td>\n",
       "      <td>Diabetes</td>\n",
       "    </tr>\n",
       "    <tr>\n",
       "      <th>89999</th>\n",
       "      <td>gynecology</td>\n",
       "      <td>50</td>\n",
       "      <td>Trauma</td>\n",
       "      <td>Moderate</td>\n",
       "      <td>Heart disease</td>\n",
       "    </tr>\n",
       "  </tbody>\n",
       "</table>\n",
       "<p>90000 rows × 5 columns</p>\n",
       "</div>"
      ],
      "text/plain": [
       "               Department  Age Type of Admission Severity of Illness  \\\n",
       "0              gynecology   30            Trauma            Moderate   \n",
       "1      TB & Chest disease   60            Trauma            Moderate   \n",
       "2            radiotherapy   60            Trauma            Moderate   \n",
       "3              gynecology   30            Trauma            Moderate   \n",
       "4              anesthesia   60            Trauma             Extreme   \n",
       "...                   ...  ...               ...                 ...   \n",
       "89995          gynecology   20            Trauma               Minor   \n",
       "89996          gynecology   40         Emergency            Moderate   \n",
       "89997          gynecology   20         Emergency            Moderate   \n",
       "89998        radiotherapy   70            Trauma             Extreme   \n",
       "89999          gynecology   50            Trauma            Moderate   \n",
       "\n",
       "         health_conditions  \n",
       "0                    Other  \n",
       "1                  Asthama  \n",
       "2                     None  \n",
       "3                     None  \n",
       "4                 Diabetes  \n",
       "...                    ...  \n",
       "89995  High Blood Pressure  \n",
       "89996                Other  \n",
       "89997  High Blood Pressure  \n",
       "89998             Diabetes  \n",
       "89999        Heart disease  \n",
       "\n",
       "[90000 rows x 5 columns]"
      ]
     },
     "execution_count": 84,
     "metadata": {},
     "output_type": "execute_result"
    }
   ],
   "source": [
    "Hosp_test = Hosp_test.drop(columns=['gender', 'Insurance'])\n",
    "Hosp_test"
   ]
  },
  {
   "cell_type": "code",
   "execution_count": 85,
   "metadata": {},
   "outputs": [
    {
     "data": {
      "text/html": [
       "<div>\n",
       "<style scoped>\n",
       "    .dataframe tbody tr th:only-of-type {\n",
       "        vertical-align: middle;\n",
       "    }\n",
       "\n",
       "    .dataframe tbody tr th {\n",
       "        vertical-align: top;\n",
       "    }\n",
       "\n",
       "    .dataframe thead th {\n",
       "        text-align: right;\n",
       "    }\n",
       "</style>\n",
       "<table border=\"1\" class=\"dataframe\">\n",
       "  <thead>\n",
       "    <tr style=\"text-align: right;\">\n",
       "      <th></th>\n",
       "      <th>Department</th>\n",
       "      <th>Age</th>\n",
       "      <th>Type of Admission</th>\n",
       "      <th>Severity of Illness</th>\n",
       "      <th>health_conditions</th>\n",
       "      <th>Stay (in days)</th>\n",
       "      <th>stay</th>\n",
       "    </tr>\n",
       "  </thead>\n",
       "  <tbody>\n",
       "    <tr>\n",
       "      <th>0</th>\n",
       "      <td>gynecology</td>\n",
       "      <td>50</td>\n",
       "      <td>Trauma</td>\n",
       "      <td>Extreme</td>\n",
       "      <td>Diabetes</td>\n",
       "      <td>8</td>\n",
       "      <td>1</td>\n",
       "    </tr>\n",
       "    <tr>\n",
       "      <th>1</th>\n",
       "      <td>gynecology</td>\n",
       "      <td>40</td>\n",
       "      <td>Trauma</td>\n",
       "      <td>Minor</td>\n",
       "      <td>Heart disease</td>\n",
       "      <td>9</td>\n",
       "      <td>1</td>\n",
       "    </tr>\n",
       "    <tr>\n",
       "      <th>2</th>\n",
       "      <td>gynecology</td>\n",
       "      <td>30</td>\n",
       "      <td>Trauma</td>\n",
       "      <td>Extreme</td>\n",
       "      <td>Diabetes</td>\n",
       "      <td>7</td>\n",
       "      <td>0</td>\n",
       "    </tr>\n",
       "    <tr>\n",
       "      <th>3</th>\n",
       "      <td>gynecology</td>\n",
       "      <td>40</td>\n",
       "      <td>Urgent</td>\n",
       "      <td>Moderate</td>\n",
       "      <td>None</td>\n",
       "      <td>8</td>\n",
       "      <td>1</td>\n",
       "    </tr>\n",
       "    <tr>\n",
       "      <th>4</th>\n",
       "      <td>anesthesia</td>\n",
       "      <td>80</td>\n",
       "      <td>Trauma</td>\n",
       "      <td>Moderate</td>\n",
       "      <td>Diabetes</td>\n",
       "      <td>34</td>\n",
       "      <td>1</td>\n",
       "    </tr>\n",
       "    <tr>\n",
       "      <th>...</th>\n",
       "      <td>...</td>\n",
       "      <td>...</td>\n",
       "      <td>...</td>\n",
       "      <td>...</td>\n",
       "      <td>...</td>\n",
       "      <td>...</td>\n",
       "      <td>...</td>\n",
       "    </tr>\n",
       "    <tr>\n",
       "      <th>409995</th>\n",
       "      <td>gynecology</td>\n",
       "      <td>40</td>\n",
       "      <td>Trauma</td>\n",
       "      <td>Minor</td>\n",
       "      <td>Asthama</td>\n",
       "      <td>8</td>\n",
       "      <td>1</td>\n",
       "    </tr>\n",
       "    <tr>\n",
       "      <th>409996</th>\n",
       "      <td>gynecology</td>\n",
       "      <td>30</td>\n",
       "      <td>Trauma</td>\n",
       "      <td>Extreme</td>\n",
       "      <td>Other</td>\n",
       "      <td>9</td>\n",
       "      <td>1</td>\n",
       "    </tr>\n",
       "    <tr>\n",
       "      <th>409997</th>\n",
       "      <td>gynecology</td>\n",
       "      <td>30</td>\n",
       "      <td>Emergency</td>\n",
       "      <td>Minor</td>\n",
       "      <td>Asthama</td>\n",
       "      <td>9</td>\n",
       "      <td>1</td>\n",
       "    </tr>\n",
       "    <tr>\n",
       "      <th>409998</th>\n",
       "      <td>gynecology</td>\n",
       "      <td>30</td>\n",
       "      <td>Trauma</td>\n",
       "      <td>Moderate</td>\n",
       "      <td>Other</td>\n",
       "      <td>9</td>\n",
       "      <td>1</td>\n",
       "    </tr>\n",
       "    <tr>\n",
       "      <th>409999</th>\n",
       "      <td>gynecology</td>\n",
       "      <td>50</td>\n",
       "      <td>Trauma</td>\n",
       "      <td>Minor</td>\n",
       "      <td>Other</td>\n",
       "      <td>8</td>\n",
       "      <td>1</td>\n",
       "    </tr>\n",
       "  </tbody>\n",
       "</table>\n",
       "<p>410000 rows × 7 columns</p>\n",
       "</div>"
      ],
      "text/plain": [
       "        Department  Age Type of Admission Severity of Illness  \\\n",
       "0       gynecology   50            Trauma             Extreme   \n",
       "1       gynecology   40            Trauma               Minor   \n",
       "2       gynecology   30            Trauma             Extreme   \n",
       "3       gynecology   40            Urgent            Moderate   \n",
       "4       anesthesia   80            Trauma            Moderate   \n",
       "...            ...  ...               ...                 ...   \n",
       "409995  gynecology   40            Trauma               Minor   \n",
       "409996  gynecology   30            Trauma             Extreme   \n",
       "409997  gynecology   30         Emergency               Minor   \n",
       "409998  gynecology   30            Trauma            Moderate   \n",
       "409999  gynecology   50            Trauma               Minor   \n",
       "\n",
       "       health_conditions  Stay (in days)  stay  \n",
       "0               Diabetes               8     1  \n",
       "1          Heart disease               9     1  \n",
       "2               Diabetes               7     0  \n",
       "3                   None               8     1  \n",
       "4               Diabetes              34     1  \n",
       "...                  ...             ...   ...  \n",
       "409995           Asthama               8     1  \n",
       "409996             Other               9     1  \n",
       "409997           Asthama               9     1  \n",
       "409998             Other               9     1  \n",
       "409999             Other               8     1  \n",
       "\n",
       "[410000 rows x 7 columns]"
      ]
     },
     "execution_count": 85,
     "metadata": {},
     "output_type": "execute_result"
    }
   ],
   "source": [
    "Hosp_train = Hosp_train.drop(columns=['gender','Insurance'])\n",
    "Hosp_train"
   ]
  },
  {
   "attachments": {},
   "cell_type": "markdown",
   "metadata": {},
   "source": [
    "LLevare un onehotencoder para las columnas con vbalores nonumerico, esto me ayudara al momento de hacer mi modelo de machin learning"
   ]
  },
  {
   "cell_type": "code",
   "execution_count": 86,
   "metadata": {},
   "outputs": [
    {
     "data": {
      "text/html": [
       "<div>\n",
       "<style scoped>\n",
       "    .dataframe tbody tr th:only-of-type {\n",
       "        vertical-align: middle;\n",
       "    }\n",
       "\n",
       "    .dataframe tbody tr th {\n",
       "        vertical-align: top;\n",
       "    }\n",
       "\n",
       "    .dataframe thead th {\n",
       "        text-align: right;\n",
       "    }\n",
       "</style>\n",
       "<table border=\"1\" class=\"dataframe\">\n",
       "  <thead>\n",
       "    <tr style=\"text-align: right;\">\n",
       "      <th></th>\n",
       "      <th>Age</th>\n",
       "      <th>Stay (in days)</th>\n",
       "      <th>stay</th>\n",
       "      <th>Department_TB &amp; Chest disease</th>\n",
       "      <th>Department_anesthesia</th>\n",
       "      <th>Department_gynecology</th>\n",
       "      <th>Department_radiotherapy</th>\n",
       "      <th>Department_surgery</th>\n",
       "      <th>Type of Admission_Emergency</th>\n",
       "      <th>Type of Admission_Trauma</th>\n",
       "      <th>Type of Admission_Urgent</th>\n",
       "      <th>Severity of Illness_Extreme</th>\n",
       "      <th>Severity of Illness_Minor</th>\n",
       "      <th>Severity of Illness_Moderate</th>\n",
       "      <th>health_conditions_Asthama</th>\n",
       "      <th>health_conditions_Diabetes</th>\n",
       "      <th>health_conditions_Heart disease</th>\n",
       "      <th>health_conditions_High Blood Pressure</th>\n",
       "      <th>health_conditions_None</th>\n",
       "      <th>health_conditions_Other</th>\n",
       "    </tr>\n",
       "  </thead>\n",
       "  <tbody>\n",
       "    <tr>\n",
       "      <th>0</th>\n",
       "      <td>50</td>\n",
       "      <td>8</td>\n",
       "      <td>1</td>\n",
       "      <td>0</td>\n",
       "      <td>0</td>\n",
       "      <td>1</td>\n",
       "      <td>0</td>\n",
       "      <td>0</td>\n",
       "      <td>0</td>\n",
       "      <td>1</td>\n",
       "      <td>0</td>\n",
       "      <td>1</td>\n",
       "      <td>0</td>\n",
       "      <td>0</td>\n",
       "      <td>0</td>\n",
       "      <td>1</td>\n",
       "      <td>0</td>\n",
       "      <td>0</td>\n",
       "      <td>0</td>\n",
       "      <td>0</td>\n",
       "    </tr>\n",
       "    <tr>\n",
       "      <th>1</th>\n",
       "      <td>40</td>\n",
       "      <td>9</td>\n",
       "      <td>1</td>\n",
       "      <td>0</td>\n",
       "      <td>0</td>\n",
       "      <td>1</td>\n",
       "      <td>0</td>\n",
       "      <td>0</td>\n",
       "      <td>0</td>\n",
       "      <td>1</td>\n",
       "      <td>0</td>\n",
       "      <td>0</td>\n",
       "      <td>1</td>\n",
       "      <td>0</td>\n",
       "      <td>0</td>\n",
       "      <td>0</td>\n",
       "      <td>1</td>\n",
       "      <td>0</td>\n",
       "      <td>0</td>\n",
       "      <td>0</td>\n",
       "    </tr>\n",
       "    <tr>\n",
       "      <th>2</th>\n",
       "      <td>30</td>\n",
       "      <td>7</td>\n",
       "      <td>0</td>\n",
       "      <td>0</td>\n",
       "      <td>0</td>\n",
       "      <td>1</td>\n",
       "      <td>0</td>\n",
       "      <td>0</td>\n",
       "      <td>0</td>\n",
       "      <td>1</td>\n",
       "      <td>0</td>\n",
       "      <td>1</td>\n",
       "      <td>0</td>\n",
       "      <td>0</td>\n",
       "      <td>0</td>\n",
       "      <td>1</td>\n",
       "      <td>0</td>\n",
       "      <td>0</td>\n",
       "      <td>0</td>\n",
       "      <td>0</td>\n",
       "    </tr>\n",
       "    <tr>\n",
       "      <th>3</th>\n",
       "      <td>40</td>\n",
       "      <td>8</td>\n",
       "      <td>1</td>\n",
       "      <td>0</td>\n",
       "      <td>0</td>\n",
       "      <td>1</td>\n",
       "      <td>0</td>\n",
       "      <td>0</td>\n",
       "      <td>0</td>\n",
       "      <td>0</td>\n",
       "      <td>1</td>\n",
       "      <td>0</td>\n",
       "      <td>0</td>\n",
       "      <td>1</td>\n",
       "      <td>0</td>\n",
       "      <td>0</td>\n",
       "      <td>0</td>\n",
       "      <td>0</td>\n",
       "      <td>1</td>\n",
       "      <td>0</td>\n",
       "    </tr>\n",
       "    <tr>\n",
       "      <th>4</th>\n",
       "      <td>80</td>\n",
       "      <td>34</td>\n",
       "      <td>1</td>\n",
       "      <td>0</td>\n",
       "      <td>1</td>\n",
       "      <td>0</td>\n",
       "      <td>0</td>\n",
       "      <td>0</td>\n",
       "      <td>0</td>\n",
       "      <td>1</td>\n",
       "      <td>0</td>\n",
       "      <td>0</td>\n",
       "      <td>0</td>\n",
       "      <td>1</td>\n",
       "      <td>0</td>\n",
       "      <td>1</td>\n",
       "      <td>0</td>\n",
       "      <td>0</td>\n",
       "      <td>0</td>\n",
       "      <td>0</td>\n",
       "    </tr>\n",
       "    <tr>\n",
       "      <th>...</th>\n",
       "      <td>...</td>\n",
       "      <td>...</td>\n",
       "      <td>...</td>\n",
       "      <td>...</td>\n",
       "      <td>...</td>\n",
       "      <td>...</td>\n",
       "      <td>...</td>\n",
       "      <td>...</td>\n",
       "      <td>...</td>\n",
       "      <td>...</td>\n",
       "      <td>...</td>\n",
       "      <td>...</td>\n",
       "      <td>...</td>\n",
       "      <td>...</td>\n",
       "      <td>...</td>\n",
       "      <td>...</td>\n",
       "      <td>...</td>\n",
       "      <td>...</td>\n",
       "      <td>...</td>\n",
       "      <td>...</td>\n",
       "    </tr>\n",
       "    <tr>\n",
       "      <th>409995</th>\n",
       "      <td>40</td>\n",
       "      <td>8</td>\n",
       "      <td>1</td>\n",
       "      <td>0</td>\n",
       "      <td>0</td>\n",
       "      <td>1</td>\n",
       "      <td>0</td>\n",
       "      <td>0</td>\n",
       "      <td>0</td>\n",
       "      <td>1</td>\n",
       "      <td>0</td>\n",
       "      <td>0</td>\n",
       "      <td>1</td>\n",
       "      <td>0</td>\n",
       "      <td>1</td>\n",
       "      <td>0</td>\n",
       "      <td>0</td>\n",
       "      <td>0</td>\n",
       "      <td>0</td>\n",
       "      <td>0</td>\n",
       "    </tr>\n",
       "    <tr>\n",
       "      <th>409996</th>\n",
       "      <td>30</td>\n",
       "      <td>9</td>\n",
       "      <td>1</td>\n",
       "      <td>0</td>\n",
       "      <td>0</td>\n",
       "      <td>1</td>\n",
       "      <td>0</td>\n",
       "      <td>0</td>\n",
       "      <td>0</td>\n",
       "      <td>1</td>\n",
       "      <td>0</td>\n",
       "      <td>1</td>\n",
       "      <td>0</td>\n",
       "      <td>0</td>\n",
       "      <td>0</td>\n",
       "      <td>0</td>\n",
       "      <td>0</td>\n",
       "      <td>0</td>\n",
       "      <td>0</td>\n",
       "      <td>1</td>\n",
       "    </tr>\n",
       "    <tr>\n",
       "      <th>409997</th>\n",
       "      <td>30</td>\n",
       "      <td>9</td>\n",
       "      <td>1</td>\n",
       "      <td>0</td>\n",
       "      <td>0</td>\n",
       "      <td>1</td>\n",
       "      <td>0</td>\n",
       "      <td>0</td>\n",
       "      <td>1</td>\n",
       "      <td>0</td>\n",
       "      <td>0</td>\n",
       "      <td>0</td>\n",
       "      <td>1</td>\n",
       "      <td>0</td>\n",
       "      <td>1</td>\n",
       "      <td>0</td>\n",
       "      <td>0</td>\n",
       "      <td>0</td>\n",
       "      <td>0</td>\n",
       "      <td>0</td>\n",
       "    </tr>\n",
       "    <tr>\n",
       "      <th>409998</th>\n",
       "      <td>30</td>\n",
       "      <td>9</td>\n",
       "      <td>1</td>\n",
       "      <td>0</td>\n",
       "      <td>0</td>\n",
       "      <td>1</td>\n",
       "      <td>0</td>\n",
       "      <td>0</td>\n",
       "      <td>0</td>\n",
       "      <td>1</td>\n",
       "      <td>0</td>\n",
       "      <td>0</td>\n",
       "      <td>0</td>\n",
       "      <td>1</td>\n",
       "      <td>0</td>\n",
       "      <td>0</td>\n",
       "      <td>0</td>\n",
       "      <td>0</td>\n",
       "      <td>0</td>\n",
       "      <td>1</td>\n",
       "    </tr>\n",
       "    <tr>\n",
       "      <th>409999</th>\n",
       "      <td>50</td>\n",
       "      <td>8</td>\n",
       "      <td>1</td>\n",
       "      <td>0</td>\n",
       "      <td>0</td>\n",
       "      <td>1</td>\n",
       "      <td>0</td>\n",
       "      <td>0</td>\n",
       "      <td>0</td>\n",
       "      <td>1</td>\n",
       "      <td>0</td>\n",
       "      <td>0</td>\n",
       "      <td>1</td>\n",
       "      <td>0</td>\n",
       "      <td>0</td>\n",
       "      <td>0</td>\n",
       "      <td>0</td>\n",
       "      <td>0</td>\n",
       "      <td>0</td>\n",
       "      <td>1</td>\n",
       "    </tr>\n",
       "  </tbody>\n",
       "</table>\n",
       "<p>410000 rows × 20 columns</p>\n",
       "</div>"
      ],
      "text/plain": [
       "        Age  Stay (in days)  stay  Department_TB & Chest disease  \\\n",
       "0        50               8     1                              0   \n",
       "1        40               9     1                              0   \n",
       "2        30               7     0                              0   \n",
       "3        40               8     1                              0   \n",
       "4        80              34     1                              0   \n",
       "...     ...             ...   ...                            ...   \n",
       "409995   40               8     1                              0   \n",
       "409996   30               9     1                              0   \n",
       "409997   30               9     1                              0   \n",
       "409998   30               9     1                              0   \n",
       "409999   50               8     1                              0   \n",
       "\n",
       "        Department_anesthesia  Department_gynecology  Department_radiotherapy  \\\n",
       "0                           0                      1                        0   \n",
       "1                           0                      1                        0   \n",
       "2                           0                      1                        0   \n",
       "3                           0                      1                        0   \n",
       "4                           1                      0                        0   \n",
       "...                       ...                    ...                      ...   \n",
       "409995                      0                      1                        0   \n",
       "409996                      0                      1                        0   \n",
       "409997                      0                      1                        0   \n",
       "409998                      0                      1                        0   \n",
       "409999                      0                      1                        0   \n",
       "\n",
       "        Department_surgery  Type of Admission_Emergency  \\\n",
       "0                        0                            0   \n",
       "1                        0                            0   \n",
       "2                        0                            0   \n",
       "3                        0                            0   \n",
       "4                        0                            0   \n",
       "...                    ...                          ...   \n",
       "409995                   0                            0   \n",
       "409996                   0                            0   \n",
       "409997                   0                            1   \n",
       "409998                   0                            0   \n",
       "409999                   0                            0   \n",
       "\n",
       "        Type of Admission_Trauma  Type of Admission_Urgent  \\\n",
       "0                              1                         0   \n",
       "1                              1                         0   \n",
       "2                              1                         0   \n",
       "3                              0                         1   \n",
       "4                              1                         0   \n",
       "...                          ...                       ...   \n",
       "409995                         1                         0   \n",
       "409996                         1                         0   \n",
       "409997                         0                         0   \n",
       "409998                         1                         0   \n",
       "409999                         1                         0   \n",
       "\n",
       "        Severity of Illness_Extreme  Severity of Illness_Minor  \\\n",
       "0                                 1                          0   \n",
       "1                                 0                          1   \n",
       "2                                 1                          0   \n",
       "3                                 0                          0   \n",
       "4                                 0                          0   \n",
       "...                             ...                        ...   \n",
       "409995                            0                          1   \n",
       "409996                            1                          0   \n",
       "409997                            0                          1   \n",
       "409998                            0                          0   \n",
       "409999                            0                          1   \n",
       "\n",
       "        Severity of Illness_Moderate  health_conditions_Asthama  \\\n",
       "0                                  0                          0   \n",
       "1                                  0                          0   \n",
       "2                                  0                          0   \n",
       "3                                  1                          0   \n",
       "4                                  1                          0   \n",
       "...                              ...                        ...   \n",
       "409995                             0                          1   \n",
       "409996                             0                          0   \n",
       "409997                             0                          1   \n",
       "409998                             1                          0   \n",
       "409999                             0                          0   \n",
       "\n",
       "        health_conditions_Diabetes  health_conditions_Heart disease  \\\n",
       "0                                1                                0   \n",
       "1                                0                                1   \n",
       "2                                1                                0   \n",
       "3                                0                                0   \n",
       "4                                1                                0   \n",
       "...                            ...                              ...   \n",
       "409995                           0                                0   \n",
       "409996                           0                                0   \n",
       "409997                           0                                0   \n",
       "409998                           0                                0   \n",
       "409999                           0                                0   \n",
       "\n",
       "        health_conditions_High Blood Pressure  health_conditions_None  \\\n",
       "0                                           0                       0   \n",
       "1                                           0                       0   \n",
       "2                                           0                       0   \n",
       "3                                           0                       1   \n",
       "4                                           0                       0   \n",
       "...                                       ...                     ...   \n",
       "409995                                      0                       0   \n",
       "409996                                      0                       0   \n",
       "409997                                      0                       0   \n",
       "409998                                      0                       0   \n",
       "409999                                      0                       0   \n",
       "\n",
       "        health_conditions_Other  \n",
       "0                             0  \n",
       "1                             0  \n",
       "2                             0  \n",
       "3                             0  \n",
       "4                             0  \n",
       "...                         ...  \n",
       "409995                        0  \n",
       "409996                        1  \n",
       "409997                        0  \n",
       "409998                        1  \n",
       "409999                        1  \n",
       "\n",
       "[410000 rows x 20 columns]"
      ]
     },
     "execution_count": 86,
     "metadata": {},
     "output_type": "execute_result"
    }
   ],
   "source": [
    "OneHot_Hosp_train = pd.get_dummies(Hosp_train)\n",
    "OneHot_Hosp_train"
   ]
  },
  {
   "cell_type": "code",
   "execution_count": 87,
   "metadata": {},
   "outputs": [
    {
     "data": {
      "text/html": [
       "<div>\n",
       "<style scoped>\n",
       "    .dataframe tbody tr th:only-of-type {\n",
       "        vertical-align: middle;\n",
       "    }\n",
       "\n",
       "    .dataframe tbody tr th {\n",
       "        vertical-align: top;\n",
       "    }\n",
       "\n",
       "    .dataframe thead th {\n",
       "        text-align: right;\n",
       "    }\n",
       "</style>\n",
       "<table border=\"1\" class=\"dataframe\">\n",
       "  <thead>\n",
       "    <tr style=\"text-align: right;\">\n",
       "      <th></th>\n",
       "      <th>Age</th>\n",
       "      <th>Department_TB &amp; Chest disease</th>\n",
       "      <th>Department_anesthesia</th>\n",
       "      <th>Department_gynecology</th>\n",
       "      <th>Department_radiotherapy</th>\n",
       "      <th>Department_surgery</th>\n",
       "      <th>Type of Admission_Emergency</th>\n",
       "      <th>Type of Admission_Trauma</th>\n",
       "      <th>Type of Admission_Urgent</th>\n",
       "      <th>Severity of Illness_Extreme</th>\n",
       "      <th>Severity of Illness_Minor</th>\n",
       "      <th>Severity of Illness_Moderate</th>\n",
       "      <th>health_conditions_Asthama</th>\n",
       "      <th>health_conditions_Diabetes</th>\n",
       "      <th>health_conditions_Heart disease</th>\n",
       "      <th>health_conditions_High Blood Pressure</th>\n",
       "      <th>health_conditions_None</th>\n",
       "      <th>health_conditions_Other</th>\n",
       "    </tr>\n",
       "  </thead>\n",
       "  <tbody>\n",
       "    <tr>\n",
       "      <th>0</th>\n",
       "      <td>30</td>\n",
       "      <td>0</td>\n",
       "      <td>0</td>\n",
       "      <td>1</td>\n",
       "      <td>0</td>\n",
       "      <td>0</td>\n",
       "      <td>0</td>\n",
       "      <td>1</td>\n",
       "      <td>0</td>\n",
       "      <td>0</td>\n",
       "      <td>0</td>\n",
       "      <td>1</td>\n",
       "      <td>0</td>\n",
       "      <td>0</td>\n",
       "      <td>0</td>\n",
       "      <td>0</td>\n",
       "      <td>0</td>\n",
       "      <td>1</td>\n",
       "    </tr>\n",
       "    <tr>\n",
       "      <th>1</th>\n",
       "      <td>60</td>\n",
       "      <td>1</td>\n",
       "      <td>0</td>\n",
       "      <td>0</td>\n",
       "      <td>0</td>\n",
       "      <td>0</td>\n",
       "      <td>0</td>\n",
       "      <td>1</td>\n",
       "      <td>0</td>\n",
       "      <td>0</td>\n",
       "      <td>0</td>\n",
       "      <td>1</td>\n",
       "      <td>1</td>\n",
       "      <td>0</td>\n",
       "      <td>0</td>\n",
       "      <td>0</td>\n",
       "      <td>0</td>\n",
       "      <td>0</td>\n",
       "    </tr>\n",
       "    <tr>\n",
       "      <th>2</th>\n",
       "      <td>60</td>\n",
       "      <td>0</td>\n",
       "      <td>0</td>\n",
       "      <td>0</td>\n",
       "      <td>1</td>\n",
       "      <td>0</td>\n",
       "      <td>0</td>\n",
       "      <td>1</td>\n",
       "      <td>0</td>\n",
       "      <td>0</td>\n",
       "      <td>0</td>\n",
       "      <td>1</td>\n",
       "      <td>0</td>\n",
       "      <td>0</td>\n",
       "      <td>0</td>\n",
       "      <td>0</td>\n",
       "      <td>1</td>\n",
       "      <td>0</td>\n",
       "    </tr>\n",
       "    <tr>\n",
       "      <th>3</th>\n",
       "      <td>30</td>\n",
       "      <td>0</td>\n",
       "      <td>0</td>\n",
       "      <td>1</td>\n",
       "      <td>0</td>\n",
       "      <td>0</td>\n",
       "      <td>0</td>\n",
       "      <td>1</td>\n",
       "      <td>0</td>\n",
       "      <td>0</td>\n",
       "      <td>0</td>\n",
       "      <td>1</td>\n",
       "      <td>0</td>\n",
       "      <td>0</td>\n",
       "      <td>0</td>\n",
       "      <td>0</td>\n",
       "      <td>1</td>\n",
       "      <td>0</td>\n",
       "    </tr>\n",
       "    <tr>\n",
       "      <th>4</th>\n",
       "      <td>60</td>\n",
       "      <td>0</td>\n",
       "      <td>1</td>\n",
       "      <td>0</td>\n",
       "      <td>0</td>\n",
       "      <td>0</td>\n",
       "      <td>0</td>\n",
       "      <td>1</td>\n",
       "      <td>0</td>\n",
       "      <td>1</td>\n",
       "      <td>0</td>\n",
       "      <td>0</td>\n",
       "      <td>0</td>\n",
       "      <td>1</td>\n",
       "      <td>0</td>\n",
       "      <td>0</td>\n",
       "      <td>0</td>\n",
       "      <td>0</td>\n",
       "    </tr>\n",
       "    <tr>\n",
       "      <th>...</th>\n",
       "      <td>...</td>\n",
       "      <td>...</td>\n",
       "      <td>...</td>\n",
       "      <td>...</td>\n",
       "      <td>...</td>\n",
       "      <td>...</td>\n",
       "      <td>...</td>\n",
       "      <td>...</td>\n",
       "      <td>...</td>\n",
       "      <td>...</td>\n",
       "      <td>...</td>\n",
       "      <td>...</td>\n",
       "      <td>...</td>\n",
       "      <td>...</td>\n",
       "      <td>...</td>\n",
       "      <td>...</td>\n",
       "      <td>...</td>\n",
       "      <td>...</td>\n",
       "    </tr>\n",
       "    <tr>\n",
       "      <th>89995</th>\n",
       "      <td>20</td>\n",
       "      <td>0</td>\n",
       "      <td>0</td>\n",
       "      <td>1</td>\n",
       "      <td>0</td>\n",
       "      <td>0</td>\n",
       "      <td>0</td>\n",
       "      <td>1</td>\n",
       "      <td>0</td>\n",
       "      <td>0</td>\n",
       "      <td>1</td>\n",
       "      <td>0</td>\n",
       "      <td>0</td>\n",
       "      <td>0</td>\n",
       "      <td>0</td>\n",
       "      <td>1</td>\n",
       "      <td>0</td>\n",
       "      <td>0</td>\n",
       "    </tr>\n",
       "    <tr>\n",
       "      <th>89996</th>\n",
       "      <td>40</td>\n",
       "      <td>0</td>\n",
       "      <td>0</td>\n",
       "      <td>1</td>\n",
       "      <td>0</td>\n",
       "      <td>0</td>\n",
       "      <td>1</td>\n",
       "      <td>0</td>\n",
       "      <td>0</td>\n",
       "      <td>0</td>\n",
       "      <td>0</td>\n",
       "      <td>1</td>\n",
       "      <td>0</td>\n",
       "      <td>0</td>\n",
       "      <td>0</td>\n",
       "      <td>0</td>\n",
       "      <td>0</td>\n",
       "      <td>1</td>\n",
       "    </tr>\n",
       "    <tr>\n",
       "      <th>89997</th>\n",
       "      <td>20</td>\n",
       "      <td>0</td>\n",
       "      <td>0</td>\n",
       "      <td>1</td>\n",
       "      <td>0</td>\n",
       "      <td>0</td>\n",
       "      <td>1</td>\n",
       "      <td>0</td>\n",
       "      <td>0</td>\n",
       "      <td>0</td>\n",
       "      <td>0</td>\n",
       "      <td>1</td>\n",
       "      <td>0</td>\n",
       "      <td>0</td>\n",
       "      <td>0</td>\n",
       "      <td>1</td>\n",
       "      <td>0</td>\n",
       "      <td>0</td>\n",
       "    </tr>\n",
       "    <tr>\n",
       "      <th>89998</th>\n",
       "      <td>70</td>\n",
       "      <td>0</td>\n",
       "      <td>0</td>\n",
       "      <td>0</td>\n",
       "      <td>1</td>\n",
       "      <td>0</td>\n",
       "      <td>0</td>\n",
       "      <td>1</td>\n",
       "      <td>0</td>\n",
       "      <td>1</td>\n",
       "      <td>0</td>\n",
       "      <td>0</td>\n",
       "      <td>0</td>\n",
       "      <td>1</td>\n",
       "      <td>0</td>\n",
       "      <td>0</td>\n",
       "      <td>0</td>\n",
       "      <td>0</td>\n",
       "    </tr>\n",
       "    <tr>\n",
       "      <th>89999</th>\n",
       "      <td>50</td>\n",
       "      <td>0</td>\n",
       "      <td>0</td>\n",
       "      <td>1</td>\n",
       "      <td>0</td>\n",
       "      <td>0</td>\n",
       "      <td>0</td>\n",
       "      <td>1</td>\n",
       "      <td>0</td>\n",
       "      <td>0</td>\n",
       "      <td>0</td>\n",
       "      <td>1</td>\n",
       "      <td>0</td>\n",
       "      <td>0</td>\n",
       "      <td>1</td>\n",
       "      <td>0</td>\n",
       "      <td>0</td>\n",
       "      <td>0</td>\n",
       "    </tr>\n",
       "  </tbody>\n",
       "</table>\n",
       "<p>90000 rows × 18 columns</p>\n",
       "</div>"
      ],
      "text/plain": [
       "       Age  Department_TB & Chest disease  Department_anesthesia  \\\n",
       "0       30                              0                      0   \n",
       "1       60                              1                      0   \n",
       "2       60                              0                      0   \n",
       "3       30                              0                      0   \n",
       "4       60                              0                      1   \n",
       "...    ...                            ...                    ...   \n",
       "89995   20                              0                      0   \n",
       "89996   40                              0                      0   \n",
       "89997   20                              0                      0   \n",
       "89998   70                              0                      0   \n",
       "89999   50                              0                      0   \n",
       "\n",
       "       Department_gynecology  Department_radiotherapy  Department_surgery  \\\n",
       "0                          1                        0                   0   \n",
       "1                          0                        0                   0   \n",
       "2                          0                        1                   0   \n",
       "3                          1                        0                   0   \n",
       "4                          0                        0                   0   \n",
       "...                      ...                      ...                 ...   \n",
       "89995                      1                        0                   0   \n",
       "89996                      1                        0                   0   \n",
       "89997                      1                        0                   0   \n",
       "89998                      0                        1                   0   \n",
       "89999                      1                        0                   0   \n",
       "\n",
       "       Type of Admission_Emergency  Type of Admission_Trauma  \\\n",
       "0                                0                         1   \n",
       "1                                0                         1   \n",
       "2                                0                         1   \n",
       "3                                0                         1   \n",
       "4                                0                         1   \n",
       "...                            ...                       ...   \n",
       "89995                            0                         1   \n",
       "89996                            1                         0   \n",
       "89997                            1                         0   \n",
       "89998                            0                         1   \n",
       "89999                            0                         1   \n",
       "\n",
       "       Type of Admission_Urgent  Severity of Illness_Extreme  \\\n",
       "0                             0                            0   \n",
       "1                             0                            0   \n",
       "2                             0                            0   \n",
       "3                             0                            0   \n",
       "4                             0                            1   \n",
       "...                         ...                          ...   \n",
       "89995                         0                            0   \n",
       "89996                         0                            0   \n",
       "89997                         0                            0   \n",
       "89998                         0                            1   \n",
       "89999                         0                            0   \n",
       "\n",
       "       Severity of Illness_Minor  Severity of Illness_Moderate  \\\n",
       "0                              0                             1   \n",
       "1                              0                             1   \n",
       "2                              0                             1   \n",
       "3                              0                             1   \n",
       "4                              0                             0   \n",
       "...                          ...                           ...   \n",
       "89995                          1                             0   \n",
       "89996                          0                             1   \n",
       "89997                          0                             1   \n",
       "89998                          0                             0   \n",
       "89999                          0                             1   \n",
       "\n",
       "       health_conditions_Asthama  health_conditions_Diabetes  \\\n",
       "0                              0                           0   \n",
       "1                              1                           0   \n",
       "2                              0                           0   \n",
       "3                              0                           0   \n",
       "4                              0                           1   \n",
       "...                          ...                         ...   \n",
       "89995                          0                           0   \n",
       "89996                          0                           0   \n",
       "89997                          0                           0   \n",
       "89998                          0                           1   \n",
       "89999                          0                           0   \n",
       "\n",
       "       health_conditions_Heart disease  health_conditions_High Blood Pressure  \\\n",
       "0                                    0                                      0   \n",
       "1                                    0                                      0   \n",
       "2                                    0                                      0   \n",
       "3                                    0                                      0   \n",
       "4                                    0                                      0   \n",
       "...                                ...                                    ...   \n",
       "89995                                0                                      1   \n",
       "89996                                0                                      0   \n",
       "89997                                0                                      1   \n",
       "89998                                0                                      0   \n",
       "89999                                1                                      0   \n",
       "\n",
       "       health_conditions_None  health_conditions_Other  \n",
       "0                           0                        1  \n",
       "1                           0                        0  \n",
       "2                           1                        0  \n",
       "3                           1                        0  \n",
       "4                           0                        0  \n",
       "...                       ...                      ...  \n",
       "89995                       0                        0  \n",
       "89996                       0                        1  \n",
       "89997                       0                        0  \n",
       "89998                       0                        0  \n",
       "89999                       0                        0  \n",
       "\n",
       "[90000 rows x 18 columns]"
      ]
     },
     "execution_count": 87,
     "metadata": {},
     "output_type": "execute_result"
    }
   ],
   "source": [
    "OneHot_Hosp_test = pd.get_dummies(Hosp_test)\n",
    "OneHot_Hosp_test"
   ]
  },
  {
   "cell_type": "code",
   "execution_count": 88,
   "metadata": {},
   "outputs": [
    {
     "data": {
      "text/html": [
       "<div>\n",
       "<style scoped>\n",
       "    .dataframe tbody tr th:only-of-type {\n",
       "        vertical-align: middle;\n",
       "    }\n",
       "\n",
       "    .dataframe tbody tr th {\n",
       "        vertical-align: top;\n",
       "    }\n",
       "\n",
       "    .dataframe thead th {\n",
       "        text-align: right;\n",
       "    }\n",
       "</style>\n",
       "<table border=\"1\" class=\"dataframe\">\n",
       "  <thead>\n",
       "    <tr style=\"text-align: right;\">\n",
       "      <th></th>\n",
       "      <th>Age</th>\n",
       "      <th>stay</th>\n",
       "      <th>Department_TB &amp; Chest disease</th>\n",
       "      <th>Department_anesthesia</th>\n",
       "      <th>Department_gynecology</th>\n",
       "      <th>Department_radiotherapy</th>\n",
       "      <th>Department_surgery</th>\n",
       "      <th>Type of Admission_Emergency</th>\n",
       "      <th>Type of Admission_Trauma</th>\n",
       "      <th>Type of Admission_Urgent</th>\n",
       "      <th>Severity of Illness_Extreme</th>\n",
       "      <th>Severity of Illness_Minor</th>\n",
       "      <th>Severity of Illness_Moderate</th>\n",
       "      <th>health_conditions_Asthama</th>\n",
       "      <th>health_conditions_Diabetes</th>\n",
       "      <th>health_conditions_Heart disease</th>\n",
       "      <th>health_conditions_High Blood Pressure</th>\n",
       "      <th>health_conditions_None</th>\n",
       "      <th>health_conditions_Other</th>\n",
       "    </tr>\n",
       "  </thead>\n",
       "  <tbody>\n",
       "    <tr>\n",
       "      <th>0</th>\n",
       "      <td>50</td>\n",
       "      <td>1</td>\n",
       "      <td>0</td>\n",
       "      <td>0</td>\n",
       "      <td>1</td>\n",
       "      <td>0</td>\n",
       "      <td>0</td>\n",
       "      <td>0</td>\n",
       "      <td>1</td>\n",
       "      <td>0</td>\n",
       "      <td>1</td>\n",
       "      <td>0</td>\n",
       "      <td>0</td>\n",
       "      <td>0</td>\n",
       "      <td>1</td>\n",
       "      <td>0</td>\n",
       "      <td>0</td>\n",
       "      <td>0</td>\n",
       "      <td>0</td>\n",
       "    </tr>\n",
       "    <tr>\n",
       "      <th>1</th>\n",
       "      <td>40</td>\n",
       "      <td>1</td>\n",
       "      <td>0</td>\n",
       "      <td>0</td>\n",
       "      <td>1</td>\n",
       "      <td>0</td>\n",
       "      <td>0</td>\n",
       "      <td>0</td>\n",
       "      <td>1</td>\n",
       "      <td>0</td>\n",
       "      <td>0</td>\n",
       "      <td>1</td>\n",
       "      <td>0</td>\n",
       "      <td>0</td>\n",
       "      <td>0</td>\n",
       "      <td>1</td>\n",
       "      <td>0</td>\n",
       "      <td>0</td>\n",
       "      <td>0</td>\n",
       "    </tr>\n",
       "    <tr>\n",
       "      <th>2</th>\n",
       "      <td>30</td>\n",
       "      <td>0</td>\n",
       "      <td>0</td>\n",
       "      <td>0</td>\n",
       "      <td>1</td>\n",
       "      <td>0</td>\n",
       "      <td>0</td>\n",
       "      <td>0</td>\n",
       "      <td>1</td>\n",
       "      <td>0</td>\n",
       "      <td>1</td>\n",
       "      <td>0</td>\n",
       "      <td>0</td>\n",
       "      <td>0</td>\n",
       "      <td>1</td>\n",
       "      <td>0</td>\n",
       "      <td>0</td>\n",
       "      <td>0</td>\n",
       "      <td>0</td>\n",
       "    </tr>\n",
       "    <tr>\n",
       "      <th>3</th>\n",
       "      <td>40</td>\n",
       "      <td>1</td>\n",
       "      <td>0</td>\n",
       "      <td>0</td>\n",
       "      <td>1</td>\n",
       "      <td>0</td>\n",
       "      <td>0</td>\n",
       "      <td>0</td>\n",
       "      <td>0</td>\n",
       "      <td>1</td>\n",
       "      <td>0</td>\n",
       "      <td>0</td>\n",
       "      <td>1</td>\n",
       "      <td>0</td>\n",
       "      <td>0</td>\n",
       "      <td>0</td>\n",
       "      <td>0</td>\n",
       "      <td>1</td>\n",
       "      <td>0</td>\n",
       "    </tr>\n",
       "    <tr>\n",
       "      <th>4</th>\n",
       "      <td>80</td>\n",
       "      <td>1</td>\n",
       "      <td>0</td>\n",
       "      <td>1</td>\n",
       "      <td>0</td>\n",
       "      <td>0</td>\n",
       "      <td>0</td>\n",
       "      <td>0</td>\n",
       "      <td>1</td>\n",
       "      <td>0</td>\n",
       "      <td>0</td>\n",
       "      <td>0</td>\n",
       "      <td>1</td>\n",
       "      <td>0</td>\n",
       "      <td>1</td>\n",
       "      <td>0</td>\n",
       "      <td>0</td>\n",
       "      <td>0</td>\n",
       "      <td>0</td>\n",
       "    </tr>\n",
       "    <tr>\n",
       "      <th>...</th>\n",
       "      <td>...</td>\n",
       "      <td>...</td>\n",
       "      <td>...</td>\n",
       "      <td>...</td>\n",
       "      <td>...</td>\n",
       "      <td>...</td>\n",
       "      <td>...</td>\n",
       "      <td>...</td>\n",
       "      <td>...</td>\n",
       "      <td>...</td>\n",
       "      <td>...</td>\n",
       "      <td>...</td>\n",
       "      <td>...</td>\n",
       "      <td>...</td>\n",
       "      <td>...</td>\n",
       "      <td>...</td>\n",
       "      <td>...</td>\n",
       "      <td>...</td>\n",
       "      <td>...</td>\n",
       "    </tr>\n",
       "    <tr>\n",
       "      <th>409995</th>\n",
       "      <td>40</td>\n",
       "      <td>1</td>\n",
       "      <td>0</td>\n",
       "      <td>0</td>\n",
       "      <td>1</td>\n",
       "      <td>0</td>\n",
       "      <td>0</td>\n",
       "      <td>0</td>\n",
       "      <td>1</td>\n",
       "      <td>0</td>\n",
       "      <td>0</td>\n",
       "      <td>1</td>\n",
       "      <td>0</td>\n",
       "      <td>1</td>\n",
       "      <td>0</td>\n",
       "      <td>0</td>\n",
       "      <td>0</td>\n",
       "      <td>0</td>\n",
       "      <td>0</td>\n",
       "    </tr>\n",
       "    <tr>\n",
       "      <th>409996</th>\n",
       "      <td>30</td>\n",
       "      <td>1</td>\n",
       "      <td>0</td>\n",
       "      <td>0</td>\n",
       "      <td>1</td>\n",
       "      <td>0</td>\n",
       "      <td>0</td>\n",
       "      <td>0</td>\n",
       "      <td>1</td>\n",
       "      <td>0</td>\n",
       "      <td>1</td>\n",
       "      <td>0</td>\n",
       "      <td>0</td>\n",
       "      <td>0</td>\n",
       "      <td>0</td>\n",
       "      <td>0</td>\n",
       "      <td>0</td>\n",
       "      <td>0</td>\n",
       "      <td>1</td>\n",
       "    </tr>\n",
       "    <tr>\n",
       "      <th>409997</th>\n",
       "      <td>30</td>\n",
       "      <td>1</td>\n",
       "      <td>0</td>\n",
       "      <td>0</td>\n",
       "      <td>1</td>\n",
       "      <td>0</td>\n",
       "      <td>0</td>\n",
       "      <td>1</td>\n",
       "      <td>0</td>\n",
       "      <td>0</td>\n",
       "      <td>0</td>\n",
       "      <td>1</td>\n",
       "      <td>0</td>\n",
       "      <td>1</td>\n",
       "      <td>0</td>\n",
       "      <td>0</td>\n",
       "      <td>0</td>\n",
       "      <td>0</td>\n",
       "      <td>0</td>\n",
       "    </tr>\n",
       "    <tr>\n",
       "      <th>409998</th>\n",
       "      <td>30</td>\n",
       "      <td>1</td>\n",
       "      <td>0</td>\n",
       "      <td>0</td>\n",
       "      <td>1</td>\n",
       "      <td>0</td>\n",
       "      <td>0</td>\n",
       "      <td>0</td>\n",
       "      <td>1</td>\n",
       "      <td>0</td>\n",
       "      <td>0</td>\n",
       "      <td>0</td>\n",
       "      <td>1</td>\n",
       "      <td>0</td>\n",
       "      <td>0</td>\n",
       "      <td>0</td>\n",
       "      <td>0</td>\n",
       "      <td>0</td>\n",
       "      <td>1</td>\n",
       "    </tr>\n",
       "    <tr>\n",
       "      <th>409999</th>\n",
       "      <td>50</td>\n",
       "      <td>1</td>\n",
       "      <td>0</td>\n",
       "      <td>0</td>\n",
       "      <td>1</td>\n",
       "      <td>0</td>\n",
       "      <td>0</td>\n",
       "      <td>0</td>\n",
       "      <td>1</td>\n",
       "      <td>0</td>\n",
       "      <td>0</td>\n",
       "      <td>1</td>\n",
       "      <td>0</td>\n",
       "      <td>0</td>\n",
       "      <td>0</td>\n",
       "      <td>0</td>\n",
       "      <td>0</td>\n",
       "      <td>0</td>\n",
       "      <td>1</td>\n",
       "    </tr>\n",
       "  </tbody>\n",
       "</table>\n",
       "<p>410000 rows × 19 columns</p>\n",
       "</div>"
      ],
      "text/plain": [
       "        Age  stay  Department_TB & Chest disease  Department_anesthesia  \\\n",
       "0        50     1                              0                      0   \n",
       "1        40     1                              0                      0   \n",
       "2        30     0                              0                      0   \n",
       "3        40     1                              0                      0   \n",
       "4        80     1                              0                      1   \n",
       "...     ...   ...                            ...                    ...   \n",
       "409995   40     1                              0                      0   \n",
       "409996   30     1                              0                      0   \n",
       "409997   30     1                              0                      0   \n",
       "409998   30     1                              0                      0   \n",
       "409999   50     1                              0                      0   \n",
       "\n",
       "        Department_gynecology  Department_radiotherapy  Department_surgery  \\\n",
       "0                           1                        0                   0   \n",
       "1                           1                        0                   0   \n",
       "2                           1                        0                   0   \n",
       "3                           1                        0                   0   \n",
       "4                           0                        0                   0   \n",
       "...                       ...                      ...                 ...   \n",
       "409995                      1                        0                   0   \n",
       "409996                      1                        0                   0   \n",
       "409997                      1                        0                   0   \n",
       "409998                      1                        0                   0   \n",
       "409999                      1                        0                   0   \n",
       "\n",
       "        Type of Admission_Emergency  Type of Admission_Trauma  \\\n",
       "0                                 0                         1   \n",
       "1                                 0                         1   \n",
       "2                                 0                         1   \n",
       "3                                 0                         0   \n",
       "4                                 0                         1   \n",
       "...                             ...                       ...   \n",
       "409995                            0                         1   \n",
       "409996                            0                         1   \n",
       "409997                            1                         0   \n",
       "409998                            0                         1   \n",
       "409999                            0                         1   \n",
       "\n",
       "        Type of Admission_Urgent  Severity of Illness_Extreme  \\\n",
       "0                              0                            1   \n",
       "1                              0                            0   \n",
       "2                              0                            1   \n",
       "3                              1                            0   \n",
       "4                              0                            0   \n",
       "...                          ...                          ...   \n",
       "409995                         0                            0   \n",
       "409996                         0                            1   \n",
       "409997                         0                            0   \n",
       "409998                         0                            0   \n",
       "409999                         0                            0   \n",
       "\n",
       "        Severity of Illness_Minor  Severity of Illness_Moderate  \\\n",
       "0                               0                             0   \n",
       "1                               1                             0   \n",
       "2                               0                             0   \n",
       "3                               0                             1   \n",
       "4                               0                             1   \n",
       "...                           ...                           ...   \n",
       "409995                          1                             0   \n",
       "409996                          0                             0   \n",
       "409997                          1                             0   \n",
       "409998                          0                             1   \n",
       "409999                          1                             0   \n",
       "\n",
       "        health_conditions_Asthama  health_conditions_Diabetes  \\\n",
       "0                               0                           1   \n",
       "1                               0                           0   \n",
       "2                               0                           1   \n",
       "3                               0                           0   \n",
       "4                               0                           1   \n",
       "...                           ...                         ...   \n",
       "409995                          1                           0   \n",
       "409996                          0                           0   \n",
       "409997                          1                           0   \n",
       "409998                          0                           0   \n",
       "409999                          0                           0   \n",
       "\n",
       "        health_conditions_Heart disease  \\\n",
       "0                                     0   \n",
       "1                                     1   \n",
       "2                                     0   \n",
       "3                                     0   \n",
       "4                                     0   \n",
       "...                                 ...   \n",
       "409995                                0   \n",
       "409996                                0   \n",
       "409997                                0   \n",
       "409998                                0   \n",
       "409999                                0   \n",
       "\n",
       "        health_conditions_High Blood Pressure  health_conditions_None  \\\n",
       "0                                           0                       0   \n",
       "1                                           0                       0   \n",
       "2                                           0                       0   \n",
       "3                                           0                       1   \n",
       "4                                           0                       0   \n",
       "...                                       ...                     ...   \n",
       "409995                                      0                       0   \n",
       "409996                                      0                       0   \n",
       "409997                                      0                       0   \n",
       "409998                                      0                       0   \n",
       "409999                                      0                       0   \n",
       "\n",
       "        health_conditions_Other  \n",
       "0                             0  \n",
       "1                             0  \n",
       "2                             0  \n",
       "3                             0  \n",
       "4                             0  \n",
       "...                         ...  \n",
       "409995                        0  \n",
       "409996                        1  \n",
       "409997                        0  \n",
       "409998                        1  \n",
       "409999                        1  \n",
       "\n",
       "[410000 rows x 19 columns]"
      ]
     },
     "execution_count": 88,
     "metadata": {},
     "output_type": "execute_result"
    }
   ],
   "source": [
    "OneHot_Hosp_train = OneHot_Hosp_train.drop(columns=['Stay (in days)'])\n",
    "OneHot_Hosp_train"
   ]
  },
  {
   "cell_type": "code",
   "execution_count": 3,
   "metadata": {},
   "outputs": [],
   "source": [
    "from sklearn.tree import DecisionTreeClassifier\n",
    "from sklearn.tree import plot_tree\n",
    "from sklearn.model_selection import train_test_split"
   ]
  },
  {
   "cell_type": "code",
   "execution_count": 89,
   "metadata": {},
   "outputs": [],
   "source": [
    "explicativas = OneHot_Hosp_train.drop(columns=['stay'])\n",
    "objetivo = OneHot_Hosp_train.stay"
   ]
  },
  {
   "cell_type": "code",
   "execution_count": 91,
   "metadata": {},
   "outputs": [],
   "source": [
    "x=explicativas\n",
    "y=objetivo"
   ]
  },
  {
   "cell_type": "code",
   "execution_count": 102,
   "metadata": {},
   "outputs": [],
   "source": [
    "model = DecisionTreeClassifier(max_depth=4)"
   ]
  },
  {
   "cell_type": "code",
   "execution_count": 103,
   "metadata": {},
   "outputs": [],
   "source": [
    "x_entre, x_testeo, y_entre , y_testeo = train_test_split(x, y, test_size= 0.3, random_state = 0)"
   ]
  },
  {
   "cell_type": "code",
   "execution_count": 104,
   "metadata": {},
   "outputs": [
    {
     "data": {
      "text/html": [
       "<style>#sk-container-id-2 {color: black;background-color: white;}#sk-container-id-2 pre{padding: 0;}#sk-container-id-2 div.sk-toggleable {background-color: white;}#sk-container-id-2 label.sk-toggleable__label {cursor: pointer;display: block;width: 100%;margin-bottom: 0;padding: 0.3em;box-sizing: border-box;text-align: center;}#sk-container-id-2 label.sk-toggleable__label-arrow:before {content: \"▸\";float: left;margin-right: 0.25em;color: #696969;}#sk-container-id-2 label.sk-toggleable__label-arrow:hover:before {color: black;}#sk-container-id-2 div.sk-estimator:hover label.sk-toggleable__label-arrow:before {color: black;}#sk-container-id-2 div.sk-toggleable__content {max-height: 0;max-width: 0;overflow: hidden;text-align: left;background-color: #f0f8ff;}#sk-container-id-2 div.sk-toggleable__content pre {margin: 0.2em;color: black;border-radius: 0.25em;background-color: #f0f8ff;}#sk-container-id-2 input.sk-toggleable__control:checked~div.sk-toggleable__content {max-height: 200px;max-width: 100%;overflow: auto;}#sk-container-id-2 input.sk-toggleable__control:checked~label.sk-toggleable__label-arrow:before {content: \"▾\";}#sk-container-id-2 div.sk-estimator input.sk-toggleable__control:checked~label.sk-toggleable__label {background-color: #d4ebff;}#sk-container-id-2 div.sk-label input.sk-toggleable__control:checked~label.sk-toggleable__label {background-color: #d4ebff;}#sk-container-id-2 input.sk-hidden--visually {border: 0;clip: rect(1px 1px 1px 1px);clip: rect(1px, 1px, 1px, 1px);height: 1px;margin: -1px;overflow: hidden;padding: 0;position: absolute;width: 1px;}#sk-container-id-2 div.sk-estimator {font-family: monospace;background-color: #f0f8ff;border: 1px dotted black;border-radius: 0.25em;box-sizing: border-box;margin-bottom: 0.5em;}#sk-container-id-2 div.sk-estimator:hover {background-color: #d4ebff;}#sk-container-id-2 div.sk-parallel-item::after {content: \"\";width: 100%;border-bottom: 1px solid gray;flex-grow: 1;}#sk-container-id-2 div.sk-label:hover label.sk-toggleable__label {background-color: #d4ebff;}#sk-container-id-2 div.sk-serial::before {content: \"\";position: absolute;border-left: 1px solid gray;box-sizing: border-box;top: 0;bottom: 0;left: 50%;z-index: 0;}#sk-container-id-2 div.sk-serial {display: flex;flex-direction: column;align-items: center;background-color: white;padding-right: 0.2em;padding-left: 0.2em;position: relative;}#sk-container-id-2 div.sk-item {position: relative;z-index: 1;}#sk-container-id-2 div.sk-parallel {display: flex;align-items: stretch;justify-content: center;background-color: white;position: relative;}#sk-container-id-2 div.sk-item::before, #sk-container-id-2 div.sk-parallel-item::before {content: \"\";position: absolute;border-left: 1px solid gray;box-sizing: border-box;top: 0;bottom: 0;left: 50%;z-index: -1;}#sk-container-id-2 div.sk-parallel-item {display: flex;flex-direction: column;z-index: 1;position: relative;background-color: white;}#sk-container-id-2 div.sk-parallel-item:first-child::after {align-self: flex-end;width: 50%;}#sk-container-id-2 div.sk-parallel-item:last-child::after {align-self: flex-start;width: 50%;}#sk-container-id-2 div.sk-parallel-item:only-child::after {width: 0;}#sk-container-id-2 div.sk-dashed-wrapped {border: 1px dashed gray;margin: 0 0.4em 0.5em 0.4em;box-sizing: border-box;padding-bottom: 0.4em;background-color: white;}#sk-container-id-2 div.sk-label label {font-family: monospace;font-weight: bold;display: inline-block;line-height: 1.2em;}#sk-container-id-2 div.sk-label-container {text-align: center;}#sk-container-id-2 div.sk-container {/* jupyter's `normalize.less` sets `[hidden] { display: none; }` but bootstrap.min.css set `[hidden] { display: none !important; }` so we also need the `!important` here to be able to override the default hidden behavior on the sphinx rendered scikit-learn.org. See: https://github.com/scikit-learn/scikit-learn/issues/21755 */display: inline-block !important;position: relative;}#sk-container-id-2 div.sk-text-repr-fallback {display: none;}</style><div id=\"sk-container-id-2\" class=\"sk-top-container\"><div class=\"sk-text-repr-fallback\"><pre>DecisionTreeClassifier(max_depth=4)</pre><b>In a Jupyter environment, please rerun this cell to show the HTML representation or trust the notebook. <br />On GitHub, the HTML representation is unable to render, please try loading this page with nbviewer.org.</b></div><div class=\"sk-container\" hidden><div class=\"sk-item\"><div class=\"sk-estimator sk-toggleable\"><input class=\"sk-toggleable__control sk-hidden--visually\" id=\"sk-estimator-id-2\" type=\"checkbox\" checked><label for=\"sk-estimator-id-2\" class=\"sk-toggleable__label sk-toggleable__label-arrow\">DecisionTreeClassifier</label><div class=\"sk-toggleable__content\"><pre>DecisionTreeClassifier(max_depth=4)</pre></div></div></div></div></div>"
      ],
      "text/plain": [
       "DecisionTreeClassifier(max_depth=4)"
      ]
     },
     "execution_count": 104,
     "metadata": {},
     "output_type": "execute_result"
    }
   ],
   "source": [
    "model.fit(X= x_entre, y=y_entre)"
   ]
  },
  {
   "cell_type": "code",
   "execution_count": 105,
   "metadata": {},
   "outputs": [
    {
     "data": {
      "text/plain": [
       "[Text(0.6029411764705882, 0.9, 'Department_radiotherapy <= 0.5\\ngini = 0.255\\nsamples = 287000\\nvalue = [43003, 243997]'),\n",
       " Text(0.3235294117647059, 0.7, 'Department_gynecology <= 0.5\\ngini = 0.185\\nsamples = 238326\\nvalue = [24588, 213738]'),\n",
       " Text(0.11764705882352941, 0.5, 'Department_TB & Chest disease <= 0.5\\ngini = 0.007\\nsamples = 41527\\nvalue = [155, 41372]'),\n",
       " Text(0.058823529411764705, 0.3, 'gini = 0.0\\nsamples = 28370\\nvalue = [0, 28370]'),\n",
       " Text(0.17647058823529413, 0.3, 'Age <= 45.0\\ngini = 0.023\\nsamples = 13157\\nvalue = [155, 13002]'),\n",
       " Text(0.11764705882352941, 0.1, 'gini = 0.062\\nsamples = 4435\\nvalue = [141, 4294]'),\n",
       " Text(0.23529411764705882, 0.1, 'gini = 0.003\\nsamples = 8722\\nvalue = [14, 8708]'),\n",
       " Text(0.5294117647058824, 0.5, 'Severity of Illness_Moderate <= 0.5\\ngini = 0.217\\nsamples = 196799\\nvalue = [24433, 172366]'),\n",
       " Text(0.4117647058823529, 0.3, 'Age <= 35.0\\ngini = 0.239\\nsamples = 90148\\nvalue = [12539, 77609]'),\n",
       " Text(0.35294117647058826, 0.1, 'gini = 0.211\\nsamples = 49166\\nvalue = [5903, 43263]'),\n",
       " Text(0.47058823529411764, 0.1, 'gini = 0.271\\nsamples = 40982\\nvalue = [6636, 34346]'),\n",
       " Text(0.6470588235294118, 0.3, 'Type of Admission_Emergency <= 0.5\\ngini = 0.198\\nsamples = 106651\\nvalue = [11894, 94757]'),\n",
       " Text(0.5882352941176471, 0.1, 'gini = 0.216\\nsamples = 74349\\nvalue = [9136, 65213]'),\n",
       " Text(0.7058823529411765, 0.1, 'gini = 0.156\\nsamples = 32302\\nvalue = [2758, 29544]'),\n",
       " Text(0.8823529411764706, 0.7, 'Age <= 55.0\\ngini = 0.47\\nsamples = 48674\\nvalue = [18415, 30259]'),\n",
       " Text(0.8235294117647058, 0.5, 'Age <= 35.0\\ngini = 0.415\\nsamples = 26080\\nvalue = [18415, 7665]'),\n",
       " Text(0.7647058823529411, 0.3, 'gini = 0.0\\nsamples = 7393\\nvalue = [0, 7393]'),\n",
       " Text(0.8823529411764706, 0.3, 'Severity of Illness_Moderate <= 0.5\\ngini = 0.029\\nsamples = 18687\\nvalue = [18415, 272]'),\n",
       " Text(0.8235294117647058, 0.1, 'gini = 0.039\\nsamples = 7169\\nvalue = [7025, 144]'),\n",
       " Text(0.9411764705882353, 0.1, 'gini = 0.022\\nsamples = 11518\\nvalue = [11390, 128]'),\n",
       " Text(0.9411764705882353, 0.5, 'gini = 0.0\\nsamples = 22594\\nvalue = [0, 22594]')]"
      ]
     },
     "execution_count": 105,
     "metadata": {},
     "output_type": "execute_result"
    },
    {
     "data": {
      "image/png": "[encoded data removed]",
      "text/plain": [
       "<Figure size 640x480 with 1 Axes>"
      ]
     },
     "metadata": {},
     "output_type": "display_data"
    }
   ],
   "source": [
    "plot_tree(decision_tree=model, feature_names=x_entre.columns, filled=True)"
   ]
  },
  {
   "cell_type": "code",
   "execution_count": 106,
   "metadata": {},
   "outputs": [],
   "source": [
    "y_pred_train = model.predict(x_testeo)"
   ]
  },
  {
   "cell_type": "code",
   "execution_count": 98,
   "metadata": {},
   "outputs": [],
   "source": [
    "from sklearn.metrics import (accuracy_score, recall_score, confusion_matrix)"
   ]
  },
  {
   "attachments": {},
   "cell_type": "markdown",
   "metadata": {},
   "source": [
    "Matriz de confusion"
   ]
  },
  {
   "cell_type": "code",
   "execution_count": 107,
   "metadata": {},
   "outputs": [
    {
     "data": {
      "text/plain": [
       "array([[  7712,  10667],\n",
       "       [   111, 104510]], dtype=int64)"
      ]
     },
     "execution_count": 107,
     "metadata": {},
     "output_type": "execute_result"
    }
   ],
   "source": [
    "matriz_confusion = confusion_matrix(y_testeo, y_pred_train)\n",
    "matriz_confusion"
   ]
  },
  {
   "attachments": {},
   "cell_type": "markdown",
   "metadata": {},
   "source": [
    "Calculo el accurancy"
   ]
  },
  {
   "cell_type": "code",
   "execution_count": 108,
   "metadata": {},
   "outputs": [
    {
     "data": {
      "text/plain": [
       "0.9123739837398374"
      ]
     },
     "execution_count": 108,
     "metadata": {},
     "output_type": "execute_result"
    }
   ],
   "source": [
    "accurancy = accuracy_score(y_testeo, y_pred_train)\n",
    "accurancy"
   ]
  },
  {
   "attachments": {},
   "cell_type": "markdown",
   "metadata": {},
   "source": [
    "Calculo el recall"
   ]
  },
  {
   "cell_type": "code",
   "execution_count": 109,
   "metadata": {},
   "outputs": [
    {
     "data": {
      "text/plain": [
       "0.9989390275374924"
      ]
     },
     "execution_count": 109,
     "metadata": {},
     "output_type": "execute_result"
    }
   ],
   "source": [
    "recall = recall_score(y_testeo, y_pred_train)\n",
    "recall\n",
    "#con los resultados dados en recall y accurancy, puedo practicamente asegurar que mi modelo sufre de overfiting "
   ]
  },
  {
   "attachments": {},
   "cell_type": "markdown",
   "metadata": {},
   "source": [
    "Predecimos el hospitalizaciones_test.csc"
   ]
  },
  {
   "cell_type": "code",
   "execution_count": 111,
   "metadata": {},
   "outputs": [],
   "source": [
    "y_pred_test = model.predict(OneHot_Hosp_test)"
   ]
  },
  {
   "attachments": {},
   "cell_type": "markdown",
   "metadata": {},
   "source": [
    "Lo metemos en un csv con la columna predi"
   ]
  },
  {
   "cell_type": "code",
   "execution_count": 112,
   "metadata": {},
   "outputs": [
    {
     "data": {
      "text/html": [
       "<div>\n",
       "<style scoped>\n",
       "    .dataframe tbody tr th:only-of-type {\n",
       "        vertical-align: middle;\n",
       "    }\n",
       "\n",
       "    .dataframe tbody tr th {\n",
       "        vertical-align: top;\n",
       "    }\n",
       "\n",
       "    .dataframe thead th {\n",
       "        text-align: right;\n",
       "    }\n",
       "</style>\n",
       "<table border=\"1\" class=\"dataframe\">\n",
       "  <thead>\n",
       "    <tr style=\"text-align: right;\">\n",
       "      <th></th>\n",
       "      <th>predi</th>\n",
       "    </tr>\n",
       "  </thead>\n",
       "  <tbody>\n",
       "    <tr>\n",
       "      <th>0</th>\n",
       "      <td>1</td>\n",
       "    </tr>\n",
       "    <tr>\n",
       "      <th>1</th>\n",
       "      <td>1</td>\n",
       "    </tr>\n",
       "    <tr>\n",
       "      <th>2</th>\n",
       "      <td>1</td>\n",
       "    </tr>\n",
       "    <tr>\n",
       "      <th>3</th>\n",
       "      <td>1</td>\n",
       "    </tr>\n",
       "    <tr>\n",
       "      <th>4</th>\n",
       "      <td>1</td>\n",
       "    </tr>\n",
       "    <tr>\n",
       "      <th>5</th>\n",
       "      <td>1</td>\n",
       "    </tr>\n",
       "    <tr>\n",
       "      <th>6</th>\n",
       "      <td>1</td>\n",
       "    </tr>\n",
       "    <tr>\n",
       "      <th>7</th>\n",
       "      <td>1</td>\n",
       "    </tr>\n",
       "    <tr>\n",
       "      <th>8</th>\n",
       "      <td>1</td>\n",
       "    </tr>\n",
       "    <tr>\n",
       "      <th>9</th>\n",
       "      <td>1</td>\n",
       "    </tr>\n",
       "    <tr>\n",
       "      <th>10</th>\n",
       "      <td>1</td>\n",
       "    </tr>\n",
       "    <tr>\n",
       "      <th>11</th>\n",
       "      <td>1</td>\n",
       "    </tr>\n",
       "    <tr>\n",
       "      <th>12</th>\n",
       "      <td>1</td>\n",
       "    </tr>\n",
       "    <tr>\n",
       "      <th>13</th>\n",
       "      <td>1</td>\n",
       "    </tr>\n",
       "    <tr>\n",
       "      <th>14</th>\n",
       "      <td>1</td>\n",
       "    </tr>\n",
       "    <tr>\n",
       "      <th>15</th>\n",
       "      <td>1</td>\n",
       "    </tr>\n",
       "    <tr>\n",
       "      <th>16</th>\n",
       "      <td>0</td>\n",
       "    </tr>\n",
       "    <tr>\n",
       "      <th>17</th>\n",
       "      <td>1</td>\n",
       "    </tr>\n",
       "    <tr>\n",
       "      <th>18</th>\n",
       "      <td>1</td>\n",
       "    </tr>\n",
       "    <tr>\n",
       "      <th>19</th>\n",
       "      <td>1</td>\n",
       "    </tr>\n",
       "    <tr>\n",
       "      <th>20</th>\n",
       "      <td>1</td>\n",
       "    </tr>\n",
       "    <tr>\n",
       "      <th>21</th>\n",
       "      <td>1</td>\n",
       "    </tr>\n",
       "    <tr>\n",
       "      <th>22</th>\n",
       "      <td>1</td>\n",
       "    </tr>\n",
       "    <tr>\n",
       "      <th>23</th>\n",
       "      <td>0</td>\n",
       "    </tr>\n",
       "    <tr>\n",
       "      <th>24</th>\n",
       "      <td>1</td>\n",
       "    </tr>\n",
       "    <tr>\n",
       "      <th>25</th>\n",
       "      <td>1</td>\n",
       "    </tr>\n",
       "    <tr>\n",
       "      <th>26</th>\n",
       "      <td>1</td>\n",
       "    </tr>\n",
       "    <tr>\n",
       "      <th>27</th>\n",
       "      <td>1</td>\n",
       "    </tr>\n",
       "    <tr>\n",
       "      <th>28</th>\n",
       "      <td>1</td>\n",
       "    </tr>\n",
       "    <tr>\n",
       "      <th>29</th>\n",
       "      <td>1</td>\n",
       "    </tr>\n",
       "    <tr>\n",
       "      <th>30</th>\n",
       "      <td>1</td>\n",
       "    </tr>\n",
       "    <tr>\n",
       "      <th>31</th>\n",
       "      <td>1</td>\n",
       "    </tr>\n",
       "    <tr>\n",
       "      <th>32</th>\n",
       "      <td>1</td>\n",
       "    </tr>\n",
       "    <tr>\n",
       "      <th>33</th>\n",
       "      <td>1</td>\n",
       "    </tr>\n",
       "    <tr>\n",
       "      <th>34</th>\n",
       "      <td>1</td>\n",
       "    </tr>\n",
       "    <tr>\n",
       "      <th>35</th>\n",
       "      <td>1</td>\n",
       "    </tr>\n",
       "    <tr>\n",
       "      <th>36</th>\n",
       "      <td>1</td>\n",
       "    </tr>\n",
       "    <tr>\n",
       "      <th>37</th>\n",
       "      <td>1</td>\n",
       "    </tr>\n",
       "    <tr>\n",
       "      <th>38</th>\n",
       "      <td>1</td>\n",
       "    </tr>\n",
       "    <tr>\n",
       "      <th>39</th>\n",
       "      <td>1</td>\n",
       "    </tr>\n",
       "    <tr>\n",
       "      <th>40</th>\n",
       "      <td>1</td>\n",
       "    </tr>\n",
       "    <tr>\n",
       "      <th>41</th>\n",
       "      <td>1</td>\n",
       "    </tr>\n",
       "    <tr>\n",
       "      <th>42</th>\n",
       "      <td>1</td>\n",
       "    </tr>\n",
       "    <tr>\n",
       "      <th>43</th>\n",
       "      <td>1</td>\n",
       "    </tr>\n",
       "    <tr>\n",
       "      <th>44</th>\n",
       "      <td>1</td>\n",
       "    </tr>\n",
       "    <tr>\n",
       "      <th>45</th>\n",
       "      <td>1</td>\n",
       "    </tr>\n",
       "    <tr>\n",
       "      <th>46</th>\n",
       "      <td>1</td>\n",
       "    </tr>\n",
       "    <tr>\n",
       "      <th>47</th>\n",
       "      <td>1</td>\n",
       "    </tr>\n",
       "    <tr>\n",
       "      <th>48</th>\n",
       "      <td>1</td>\n",
       "    </tr>\n",
       "    <tr>\n",
       "      <th>49</th>\n",
       "      <td>1</td>\n",
       "    </tr>\n",
       "  </tbody>\n",
       "</table>\n",
       "</div>"
      ],
      "text/plain": [
       "    predi\n",
       "0       1\n",
       "1       1\n",
       "2       1\n",
       "3       1\n",
       "4       1\n",
       "5       1\n",
       "6       1\n",
       "7       1\n",
       "8       1\n",
       "9       1\n",
       "10      1\n",
       "11      1\n",
       "12      1\n",
       "13      1\n",
       "14      1\n",
       "15      1\n",
       "16      0\n",
       "17      1\n",
       "18      1\n",
       "19      1\n",
       "20      1\n",
       "21      1\n",
       "22      1\n",
       "23      0\n",
       "24      1\n",
       "25      1\n",
       "26      1\n",
       "27      1\n",
       "28      1\n",
       "29      1\n",
       "30      1\n",
       "31      1\n",
       "32      1\n",
       "33      1\n",
       "34      1\n",
       "35      1\n",
       "36      1\n",
       "37      1\n",
       "38      1\n",
       "39      1\n",
       "40      1\n",
       "41      1\n",
       "42      1\n",
       "43      1\n",
       "44      1\n",
       "45      1\n",
       "46      1\n",
       "47      1\n",
       "48      1\n",
       "49      1"
      ]
     },
     "execution_count": 112,
     "metadata": {},
     "output_type": "execute_result"
    }
   ],
   "source": [
    "Prediccion = pd.DataFrame(y_pred_test, columns=['predi'])\n",
    "Prediccion.head(50)"
   ]
  },
  {
   "cell_type": "code",
   "execution_count": null,
   "metadata": {},
   "outputs": [],
   "source": []
  }
 ],
 "metadata": {
  "kernelspec": {
   "display_name": "Python 3",
   "language": "python",
   "name": "python3"
  },
  "language_info": {
   "codemirror_mode": {
    "name": "ipython",
    "version": 3
   },
   "file_extension": ".py",
   "mimetype": "text/x-python",
   "name": "python",
   "nbconvert_exporter": "python",
   "pygments_lexer": "ipython3",
   "version": "3.9.2"
  },
  "orig_nbformat": 4,
  "vscode": {
   "interpreter": {
    "hash": "2469a70536e4d2335a2ea8907942d0699c37342a371ac185bdb5b0aa6f073890"
   }
  }
 },
 "nbformat": 4,
 "nbformat_minor": 2
}
